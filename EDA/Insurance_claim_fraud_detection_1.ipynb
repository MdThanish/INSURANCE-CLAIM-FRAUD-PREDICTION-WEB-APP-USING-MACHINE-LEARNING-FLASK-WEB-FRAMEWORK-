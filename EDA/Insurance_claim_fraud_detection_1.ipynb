{
 "cells": [
  {
   "cell_type": "markdown",
   "metadata": {
    "heading_collapsed": true
   },
   "source": [
    "# Import libraries"
   ]
  },
  {
   "cell_type": "code",
   "execution_count": 1,
   "metadata": {
    "ExecuteTime": {
     "end_time": "2022-03-10T02:01:01.800722Z",
     "start_time": "2022-03-10T02:01:00.297671Z"
    },
    "hidden": true
   },
   "outputs": [],
   "source": [
    "import pandas as pd\n",
    "import numpy as np\n",
    "import seaborn as sns\n",
    "import matplotlib.pyplot as plt\n",
    "%matplotlib inline\n",
    "# theme beutify\n",
    "from jupyterthemes import jtplot\n",
    "jtplot.style(theme='onedork')"
   ]
  },
  {
   "cell_type": "markdown",
   "metadata": {},
   "source": [
    "# Load dataset & initial analysis"
   ]
  },
  {
   "cell_type": "code",
   "execution_count": 2,
   "metadata": {
    "ExecuteTime": {
     "end_time": "2022-03-10T02:01:01.831676Z",
     "start_time": "2022-03-10T02:01:01.801719Z"
    }
   },
   "outputs": [],
   "source": [
    "data = pd.read_csv(\"../GoodDataForTrain/inputFile.csv\")"
   ]
  },
  {
   "cell_type": "code",
   "execution_count": 3,
   "metadata": {
    "ExecuteTime": {
     "end_time": "2022-03-10T02:01:01.863591Z",
     "start_time": "2022-03-10T02:01:01.833741Z"
    },
    "scrolled": true
   },
   "outputs": [
    {
     "data": {
      "text/html": [
       "<div>\n",
       "<style scoped>\n",
       "    .dataframe tbody tr th:only-of-type {\n",
       "        vertical-align: middle;\n",
       "    }\n",
       "\n",
       "    .dataframe tbody tr th {\n",
       "        vertical-align: top;\n",
       "    }\n",
       "\n",
       "    .dataframe thead th {\n",
       "        text-align: right;\n",
       "    }\n",
       "</style>\n",
       "<table border=\"1\" class=\"dataframe\">\n",
       "  <thead>\n",
       "    <tr style=\"text-align: right;\">\n",
       "      <th></th>\n",
       "      <th>months_as_customer</th>\n",
       "      <th>age</th>\n",
       "      <th>policy_number</th>\n",
       "      <th>policy_bind_date</th>\n",
       "      <th>policy_state</th>\n",
       "      <th>policy_csl</th>\n",
       "      <th>policy_deductable</th>\n",
       "      <th>policy_annual_premium</th>\n",
       "      <th>umbrella_limit</th>\n",
       "      <th>insured_zip</th>\n",
       "      <th>...</th>\n",
       "      <th>witnesses</th>\n",
       "      <th>police_report_available</th>\n",
       "      <th>total_claim_amount</th>\n",
       "      <th>injury_claim</th>\n",
       "      <th>property_claim</th>\n",
       "      <th>vehicle_claim</th>\n",
       "      <th>auto_make</th>\n",
       "      <th>auto_model</th>\n",
       "      <th>auto_year</th>\n",
       "      <th>fraud_reported</th>\n",
       "    </tr>\n",
       "  </thead>\n",
       "  <tbody>\n",
       "    <tr>\n",
       "      <th>0</th>\n",
       "      <td>328</td>\n",
       "      <td>48</td>\n",
       "      <td>521585</td>\n",
       "      <td>10/17/2014</td>\n",
       "      <td>OH</td>\n",
       "      <td>250/500</td>\n",
       "      <td>1000</td>\n",
       "      <td>1406.91</td>\n",
       "      <td>0</td>\n",
       "      <td>466132</td>\n",
       "      <td>...</td>\n",
       "      <td>2</td>\n",
       "      <td>YES</td>\n",
       "      <td>71610</td>\n",
       "      <td>6510</td>\n",
       "      <td>13020</td>\n",
       "      <td>52080</td>\n",
       "      <td>Saab</td>\n",
       "      <td>92x</td>\n",
       "      <td>2004</td>\n",
       "      <td>Y</td>\n",
       "    </tr>\n",
       "    <tr>\n",
       "      <th>1</th>\n",
       "      <td>228</td>\n",
       "      <td>42</td>\n",
       "      <td>342868</td>\n",
       "      <td>6/27/2006</td>\n",
       "      <td>IN</td>\n",
       "      <td>250/500</td>\n",
       "      <td>2000</td>\n",
       "      <td>1197.22</td>\n",
       "      <td>5000000</td>\n",
       "      <td>468176</td>\n",
       "      <td>...</td>\n",
       "      <td>0</td>\n",
       "      <td>?</td>\n",
       "      <td>5070</td>\n",
       "      <td>780</td>\n",
       "      <td>780</td>\n",
       "      <td>3510</td>\n",
       "      <td>Mercedes</td>\n",
       "      <td>E400</td>\n",
       "      <td>2007</td>\n",
       "      <td>Y</td>\n",
       "    </tr>\n",
       "    <tr>\n",
       "      <th>2</th>\n",
       "      <td>134</td>\n",
       "      <td>29</td>\n",
       "      <td>687698</td>\n",
       "      <td>9/6/2000</td>\n",
       "      <td>OH</td>\n",
       "      <td>100/300</td>\n",
       "      <td>2000</td>\n",
       "      <td>1413.14</td>\n",
       "      <td>5000000</td>\n",
       "      <td>430632</td>\n",
       "      <td>...</td>\n",
       "      <td>3</td>\n",
       "      <td>NO</td>\n",
       "      <td>34650</td>\n",
       "      <td>7700</td>\n",
       "      <td>3850</td>\n",
       "      <td>23100</td>\n",
       "      <td>Dodge</td>\n",
       "      <td>RAM</td>\n",
       "      <td>2007</td>\n",
       "      <td>N</td>\n",
       "    </tr>\n",
       "    <tr>\n",
       "      <th>3</th>\n",
       "      <td>256</td>\n",
       "      <td>41</td>\n",
       "      <td>227811</td>\n",
       "      <td>5/25/1990</td>\n",
       "      <td>IL</td>\n",
       "      <td>250/500</td>\n",
       "      <td>2000</td>\n",
       "      <td>1415.74</td>\n",
       "      <td>6000000</td>\n",
       "      <td>608117</td>\n",
       "      <td>...</td>\n",
       "      <td>2</td>\n",
       "      <td>NO</td>\n",
       "      <td>63400</td>\n",
       "      <td>6340</td>\n",
       "      <td>6340</td>\n",
       "      <td>50720</td>\n",
       "      <td>Chevrolet</td>\n",
       "      <td>Tahoe</td>\n",
       "      <td>2014</td>\n",
       "      <td>Y</td>\n",
       "    </tr>\n",
       "    <tr>\n",
       "      <th>4</th>\n",
       "      <td>228</td>\n",
       "      <td>44</td>\n",
       "      <td>367455</td>\n",
       "      <td>6/6/2014</td>\n",
       "      <td>IL</td>\n",
       "      <td>500/1000</td>\n",
       "      <td>1000</td>\n",
       "      <td>1583.91</td>\n",
       "      <td>6000000</td>\n",
       "      <td>610706</td>\n",
       "      <td>...</td>\n",
       "      <td>1</td>\n",
       "      <td>NO</td>\n",
       "      <td>6500</td>\n",
       "      <td>1300</td>\n",
       "      <td>650</td>\n",
       "      <td>4550</td>\n",
       "      <td>Accura</td>\n",
       "      <td>RSX</td>\n",
       "      <td>2009</td>\n",
       "      <td>N</td>\n",
       "    </tr>\n",
       "  </tbody>\n",
       "</table>\n",
       "<p>5 rows × 39 columns</p>\n",
       "</div>"
      ],
      "text/plain": [
       "   months_as_customer  age  policy_number policy_bind_date policy_state  \\\n",
       "0                 328   48         521585       10/17/2014           OH   \n",
       "1                 228   42         342868        6/27/2006           IN   \n",
       "2                 134   29         687698         9/6/2000           OH   \n",
       "3                 256   41         227811        5/25/1990           IL   \n",
       "4                 228   44         367455         6/6/2014           IL   \n",
       "\n",
       "  policy_csl  policy_deductable  policy_annual_premium  umbrella_limit  \\\n",
       "0    250/500               1000                1406.91               0   \n",
       "1    250/500               2000                1197.22         5000000   \n",
       "2    100/300               2000                1413.14         5000000   \n",
       "3    250/500               2000                1415.74         6000000   \n",
       "4   500/1000               1000                1583.91         6000000   \n",
       "\n",
       "   insured_zip  ... witnesses police_report_available total_claim_amount  \\\n",
       "0       466132  ...         2                     YES              71610   \n",
       "1       468176  ...         0                       ?               5070   \n",
       "2       430632  ...         3                      NO              34650   \n",
       "3       608117  ...         2                      NO              63400   \n",
       "4       610706  ...         1                      NO               6500   \n",
       "\n",
       "  injury_claim property_claim  vehicle_claim  auto_make auto_model auto_year  \\\n",
       "0         6510          13020          52080       Saab        92x      2004   \n",
       "1          780            780           3510   Mercedes       E400      2007   \n",
       "2         7700           3850          23100      Dodge        RAM      2007   \n",
       "3         6340           6340          50720  Chevrolet      Tahoe      2014   \n",
       "4         1300            650           4550     Accura        RSX      2009   \n",
       "\n",
       "  fraud_reported  \n",
       "0              Y  \n",
       "1              Y  \n",
       "2              N  \n",
       "3              Y  \n",
       "4              N  \n",
       "\n",
       "[5 rows x 39 columns]"
      ]
     },
     "execution_count": 3,
     "metadata": {},
     "output_type": "execute_result"
    }
   ],
   "source": [
    "data.head()"
   ]
  },
  {
   "cell_type": "markdown",
   "metadata": {},
   "source": [
    "- data consists of ? values\n",
    "- replace ? by Null"
   ]
  },
  {
   "cell_type": "code",
   "execution_count": 4,
   "metadata": {
    "ExecuteTime": {
     "end_time": "2022-03-10T02:01:01.879549Z",
     "start_time": "2022-03-10T02:01:01.864588Z"
    }
   },
   "outputs": [],
   "source": [
    "# replacing ? with np.null\n",
    "data = data.replace(to_replace='?', value=np.NaN)"
   ]
  },
  {
   "cell_type": "code",
   "execution_count": 5,
   "metadata": {
    "ExecuteTime": {
     "end_time": "2022-03-10T02:01:01.910257Z",
     "start_time": "2022-03-10T02:01:01.881544Z"
    }
   },
   "outputs": [
    {
     "name": "stdout",
     "output_type": "stream",
     "text": [
      "<class 'pandas.core.frame.DataFrame'>\n",
      "RangeIndex: 1000 entries, 0 to 999\n",
      "Data columns (total 39 columns):\n",
      " #   Column                       Non-Null Count  Dtype  \n",
      "---  ------                       --------------  -----  \n",
      " 0   months_as_customer           1000 non-null   int64  \n",
      " 1   age                          1000 non-null   int64  \n",
      " 2   policy_number                1000 non-null   int64  \n",
      " 3   policy_bind_date             1000 non-null   object \n",
      " 4   policy_state                 1000 non-null   object \n",
      " 5   policy_csl                   1000 non-null   object \n",
      " 6   policy_deductable            1000 non-null   int64  \n",
      " 7   policy_annual_premium        1000 non-null   float64\n",
      " 8   umbrella_limit               1000 non-null   int64  \n",
      " 9   insured_zip                  1000 non-null   int64  \n",
      " 10  insured_sex                  1000 non-null   object \n",
      " 11  insured_education_level      1000 non-null   object \n",
      " 12  insured_occupation           1000 non-null   object \n",
      " 13  insured_hobbies              1000 non-null   object \n",
      " 14  insured_relationship         1000 non-null   object \n",
      " 15  capital_gains                1000 non-null   int64  \n",
      " 16  capital_loss                 1000 non-null   int64  \n",
      " 17  incident_date                1000 non-null   object \n",
      " 18  incident_type                1000 non-null   object \n",
      " 19  collision_type               822 non-null    object \n",
      " 20  incident_severity            1000 non-null   object \n",
      " 21  authorities_contacted        1000 non-null   object \n",
      " 22  incident_state               1000 non-null   object \n",
      " 23  incident_city                1000 non-null   object \n",
      " 24  incident_location            1000 non-null   object \n",
      " 25  incident_hour_of_the_day     1000 non-null   int64  \n",
      " 26  number_of_vehicles_involved  1000 non-null   int64  \n",
      " 27  property_damage              640 non-null    object \n",
      " 28  bodily_injuries              1000 non-null   int64  \n",
      " 29  witnesses                    1000 non-null   int64  \n",
      " 30  police_report_available      657 non-null    object \n",
      " 31  total_claim_amount           1000 non-null   int64  \n",
      " 32  injury_claim                 1000 non-null   int64  \n",
      " 33  property_claim               1000 non-null   int64  \n",
      " 34  vehicle_claim                1000 non-null   int64  \n",
      " 35  auto_make                    1000 non-null   object \n",
      " 36  auto_model                   1000 non-null   object \n",
      " 37  auto_year                    1000 non-null   int64  \n",
      " 38  fraud_reported               1000 non-null   object \n",
      "dtypes: float64(1), int64(17), object(21)\n",
      "memory usage: 304.8+ KB\n"
     ]
    }
   ],
   "source": [
    "data.info()"
   ]
  },
  {
   "cell_type": "markdown",
   "metadata": {},
   "source": [
    "- Few catagorical features contains null values, need to handle missing values\n",
    "- Features are mix of numerical & catagrical"
   ]
  },
  {
   "cell_type": "code",
   "execution_count": 6,
   "metadata": {
    "ExecuteTime": {
     "end_time": "2022-03-10T02:01:01.925426Z",
     "start_time": "2022-03-10T02:01:01.911463Z"
    }
   },
   "outputs": [],
   "source": [
    "num_data = data.select_dtypes(exclude='O')\n",
    "cat_data = data.select_dtypes(include='O')"
   ]
  },
  {
   "cell_type": "markdown",
   "metadata": {},
   "source": [
    "# Pre-processing"
   ]
  },
  {
   "cell_type": "markdown",
   "metadata": {},
   "source": [
    "## working out for cat data"
   ]
  },
  {
   "cell_type": "markdown",
   "metadata": {},
   "source": [
    "### Initial Cat check"
   ]
  },
  {
   "cell_type": "code",
   "execution_count": 7,
   "metadata": {
    "ExecuteTime": {
     "end_time": "2022-03-10T02:01:01.956559Z",
     "start_time": "2022-03-10T02:01:01.926423Z"
    }
   },
   "outputs": [
    {
     "data": {
      "text/html": [
       "<div>\n",
       "<style scoped>\n",
       "    .dataframe tbody tr th:only-of-type {\n",
       "        vertical-align: middle;\n",
       "    }\n",
       "\n",
       "    .dataframe tbody tr th {\n",
       "        vertical-align: top;\n",
       "    }\n",
       "\n",
       "    .dataframe thead th {\n",
       "        text-align: right;\n",
       "    }\n",
       "</style>\n",
       "<table border=\"1\" class=\"dataframe\">\n",
       "  <thead>\n",
       "    <tr style=\"text-align: right;\">\n",
       "      <th></th>\n",
       "      <th>policy_bind_date</th>\n",
       "      <th>policy_state</th>\n",
       "      <th>policy_csl</th>\n",
       "      <th>insured_sex</th>\n",
       "      <th>insured_education_level</th>\n",
       "      <th>insured_occupation</th>\n",
       "      <th>insured_hobbies</th>\n",
       "      <th>insured_relationship</th>\n",
       "      <th>incident_date</th>\n",
       "      <th>incident_type</th>\n",
       "      <th>...</th>\n",
       "      <th>incident_severity</th>\n",
       "      <th>authorities_contacted</th>\n",
       "      <th>incident_state</th>\n",
       "      <th>incident_city</th>\n",
       "      <th>incident_location</th>\n",
       "      <th>property_damage</th>\n",
       "      <th>police_report_available</th>\n",
       "      <th>auto_make</th>\n",
       "      <th>auto_model</th>\n",
       "      <th>fraud_reported</th>\n",
       "    </tr>\n",
       "  </thead>\n",
       "  <tbody>\n",
       "    <tr>\n",
       "      <th>0</th>\n",
       "      <td>10/17/2014</td>\n",
       "      <td>OH</td>\n",
       "      <td>250/500</td>\n",
       "      <td>MALE</td>\n",
       "      <td>MD</td>\n",
       "      <td>craft-repair</td>\n",
       "      <td>sleeping</td>\n",
       "      <td>husband</td>\n",
       "      <td>1/25/2015</td>\n",
       "      <td>Single Vehicle Collision</td>\n",
       "      <td>...</td>\n",
       "      <td>Major Damage</td>\n",
       "      <td>Police</td>\n",
       "      <td>SC</td>\n",
       "      <td>Columbus</td>\n",
       "      <td>9935 4th Drive</td>\n",
       "      <td>YES</td>\n",
       "      <td>YES</td>\n",
       "      <td>Saab</td>\n",
       "      <td>92x</td>\n",
       "      <td>Y</td>\n",
       "    </tr>\n",
       "    <tr>\n",
       "      <th>1</th>\n",
       "      <td>6/27/2006</td>\n",
       "      <td>IN</td>\n",
       "      <td>250/500</td>\n",
       "      <td>MALE</td>\n",
       "      <td>MD</td>\n",
       "      <td>machine-op-inspct</td>\n",
       "      <td>reading</td>\n",
       "      <td>other-relative</td>\n",
       "      <td>1/21/2015</td>\n",
       "      <td>Vehicle Theft</td>\n",
       "      <td>...</td>\n",
       "      <td>Minor Damage</td>\n",
       "      <td>Police</td>\n",
       "      <td>VA</td>\n",
       "      <td>Riverwood</td>\n",
       "      <td>6608 MLK Hwy</td>\n",
       "      <td>NaN</td>\n",
       "      <td>NaN</td>\n",
       "      <td>Mercedes</td>\n",
       "      <td>E400</td>\n",
       "      <td>Y</td>\n",
       "    </tr>\n",
       "    <tr>\n",
       "      <th>2</th>\n",
       "      <td>9/6/2000</td>\n",
       "      <td>OH</td>\n",
       "      <td>100/300</td>\n",
       "      <td>FEMALE</td>\n",
       "      <td>PhD</td>\n",
       "      <td>sales</td>\n",
       "      <td>board-games</td>\n",
       "      <td>own-child</td>\n",
       "      <td>2/22/2015</td>\n",
       "      <td>Multi-vehicle Collision</td>\n",
       "      <td>...</td>\n",
       "      <td>Minor Damage</td>\n",
       "      <td>Police</td>\n",
       "      <td>NY</td>\n",
       "      <td>Columbus</td>\n",
       "      <td>7121 Francis Lane</td>\n",
       "      <td>NO</td>\n",
       "      <td>NO</td>\n",
       "      <td>Dodge</td>\n",
       "      <td>RAM</td>\n",
       "      <td>N</td>\n",
       "    </tr>\n",
       "    <tr>\n",
       "      <th>3</th>\n",
       "      <td>5/25/1990</td>\n",
       "      <td>IL</td>\n",
       "      <td>250/500</td>\n",
       "      <td>FEMALE</td>\n",
       "      <td>PhD</td>\n",
       "      <td>armed-forces</td>\n",
       "      <td>board-games</td>\n",
       "      <td>unmarried</td>\n",
       "      <td>1/10/2015</td>\n",
       "      <td>Single Vehicle Collision</td>\n",
       "      <td>...</td>\n",
       "      <td>Major Damage</td>\n",
       "      <td>Police</td>\n",
       "      <td>OH</td>\n",
       "      <td>Arlington</td>\n",
       "      <td>6956 Maple Drive</td>\n",
       "      <td>NaN</td>\n",
       "      <td>NO</td>\n",
       "      <td>Chevrolet</td>\n",
       "      <td>Tahoe</td>\n",
       "      <td>Y</td>\n",
       "    </tr>\n",
       "    <tr>\n",
       "      <th>4</th>\n",
       "      <td>6/6/2014</td>\n",
       "      <td>IL</td>\n",
       "      <td>500/1000</td>\n",
       "      <td>MALE</td>\n",
       "      <td>Associate</td>\n",
       "      <td>sales</td>\n",
       "      <td>board-games</td>\n",
       "      <td>unmarried</td>\n",
       "      <td>2/17/2015</td>\n",
       "      <td>Vehicle Theft</td>\n",
       "      <td>...</td>\n",
       "      <td>Minor Damage</td>\n",
       "      <td>None</td>\n",
       "      <td>NY</td>\n",
       "      <td>Arlington</td>\n",
       "      <td>3041 3rd Ave</td>\n",
       "      <td>NO</td>\n",
       "      <td>NO</td>\n",
       "      <td>Accura</td>\n",
       "      <td>RSX</td>\n",
       "      <td>N</td>\n",
       "    </tr>\n",
       "  </tbody>\n",
       "</table>\n",
       "<p>5 rows × 21 columns</p>\n",
       "</div>"
      ],
      "text/plain": [
       "  policy_bind_date policy_state policy_csl insured_sex  \\\n",
       "0       10/17/2014           OH    250/500        MALE   \n",
       "1        6/27/2006           IN    250/500        MALE   \n",
       "2         9/6/2000           OH    100/300      FEMALE   \n",
       "3        5/25/1990           IL    250/500      FEMALE   \n",
       "4         6/6/2014           IL   500/1000        MALE   \n",
       "\n",
       "  insured_education_level insured_occupation insured_hobbies  \\\n",
       "0                      MD       craft-repair        sleeping   \n",
       "1                      MD  machine-op-inspct         reading   \n",
       "2                     PhD              sales     board-games   \n",
       "3                     PhD       armed-forces     board-games   \n",
       "4               Associate              sales     board-games   \n",
       "\n",
       "  insured_relationship incident_date             incident_type  ...  \\\n",
       "0              husband     1/25/2015  Single Vehicle Collision  ...   \n",
       "1       other-relative     1/21/2015             Vehicle Theft  ...   \n",
       "2            own-child     2/22/2015   Multi-vehicle Collision  ...   \n",
       "3            unmarried     1/10/2015  Single Vehicle Collision  ...   \n",
       "4            unmarried     2/17/2015             Vehicle Theft  ...   \n",
       "\n",
       "  incident_severity authorities_contacted incident_state incident_city  \\\n",
       "0      Major Damage                Police             SC      Columbus   \n",
       "1      Minor Damage                Police             VA     Riverwood   \n",
       "2      Minor Damage                Police             NY      Columbus   \n",
       "3      Major Damage                Police             OH     Arlington   \n",
       "4      Minor Damage                  None             NY     Arlington   \n",
       "\n",
       "   incident_location property_damage police_report_available  auto_make  \\\n",
       "0     9935 4th Drive             YES                     YES       Saab   \n",
       "1       6608 MLK Hwy             NaN                     NaN   Mercedes   \n",
       "2  7121 Francis Lane              NO                      NO      Dodge   \n",
       "3   6956 Maple Drive             NaN                      NO  Chevrolet   \n",
       "4       3041 3rd Ave              NO                      NO     Accura   \n",
       "\n",
       "  auto_model fraud_reported  \n",
       "0        92x              Y  \n",
       "1       E400              Y  \n",
       "2        RAM              N  \n",
       "3      Tahoe              Y  \n",
       "4        RSX              N  \n",
       "\n",
       "[5 rows x 21 columns]"
      ]
     },
     "execution_count": 7,
     "metadata": {},
     "output_type": "execute_result"
    }
   ],
   "source": [
    "cat_data.head()"
   ]
  },
  {
   "cell_type": "code",
   "execution_count": 8,
   "metadata": {
    "ExecuteTime": {
     "end_time": "2022-03-10T02:01:01.972300Z",
     "start_time": "2022-03-10T02:01:01.959434Z"
    }
   },
   "outputs": [
    {
     "data": {
      "text/plain": [
       "policy_bind_date            951\n",
       "policy_state                  3\n",
       "policy_csl                    3\n",
       "insured_sex                   2\n",
       "insured_education_level       7\n",
       "insured_occupation           14\n",
       "insured_hobbies              20\n",
       "insured_relationship          6\n",
       "incident_date                60\n",
       "incident_type                 4\n",
       "collision_type                3\n",
       "incident_severity             4\n",
       "authorities_contacted         5\n",
       "incident_state                7\n",
       "incident_city                 7\n",
       "incident_location          1000\n",
       "property_damage               2\n",
       "police_report_available       2\n",
       "auto_make                    14\n",
       "auto_model                   39\n",
       "fraud_reported                2\n",
       "dtype: int64"
      ]
     },
     "execution_count": 8,
     "metadata": {},
     "output_type": "execute_result"
    }
   ],
   "source": [
    "# check unique values\n",
    "cat_data.nunique()"
   ]
  },
  {
   "cell_type": "markdown",
   "metadata": {},
   "source": [
    "- catagorical data with unique values close to total records can be dropped"
   ]
  },
  {
   "cell_type": "code",
   "execution_count": 9,
   "metadata": {
    "ExecuteTime": {
     "end_time": "2022-03-10T02:01:01.988257Z",
     "start_time": "2022-03-10T02:01:01.974295Z"
    }
   },
   "outputs": [],
   "source": [
    "# drop features with high unique values\n",
    "cat_data = cat_data.drop(['policy_bind_date','incident_location'],axis=1)"
   ]
  },
  {
   "cell_type": "code",
   "execution_count": 10,
   "metadata": {
    "ExecuteTime": {
     "end_time": "2022-03-10T02:01:02.020187Z",
     "start_time": "2022-03-10T02:01:01.989255Z"
    },
    "scrolled": true
   },
   "outputs": [
    {
     "data": {
      "text/html": [
       "<div>\n",
       "<style scoped>\n",
       "    .dataframe tbody tr th:only-of-type {\n",
       "        vertical-align: middle;\n",
       "    }\n",
       "\n",
       "    .dataframe tbody tr th {\n",
       "        vertical-align: top;\n",
       "    }\n",
       "\n",
       "    .dataframe thead th {\n",
       "        text-align: right;\n",
       "    }\n",
       "</style>\n",
       "<table border=\"1\" class=\"dataframe\">\n",
       "  <thead>\n",
       "    <tr style=\"text-align: right;\">\n",
       "      <th></th>\n",
       "      <th>policy_state</th>\n",
       "      <th>policy_csl</th>\n",
       "      <th>insured_sex</th>\n",
       "      <th>insured_education_level</th>\n",
       "      <th>insured_occupation</th>\n",
       "      <th>insured_hobbies</th>\n",
       "      <th>insured_relationship</th>\n",
       "      <th>incident_date</th>\n",
       "      <th>incident_type</th>\n",
       "      <th>collision_type</th>\n",
       "      <th>incident_severity</th>\n",
       "      <th>authorities_contacted</th>\n",
       "      <th>incident_state</th>\n",
       "      <th>incident_city</th>\n",
       "      <th>property_damage</th>\n",
       "      <th>police_report_available</th>\n",
       "      <th>auto_make</th>\n",
       "      <th>auto_model</th>\n",
       "      <th>fraud_reported</th>\n",
       "    </tr>\n",
       "  </thead>\n",
       "  <tbody>\n",
       "    <tr>\n",
       "      <th>0</th>\n",
       "      <td>OH</td>\n",
       "      <td>250/500</td>\n",
       "      <td>MALE</td>\n",
       "      <td>MD</td>\n",
       "      <td>craft-repair</td>\n",
       "      <td>sleeping</td>\n",
       "      <td>husband</td>\n",
       "      <td>1/25/2015</td>\n",
       "      <td>Single Vehicle Collision</td>\n",
       "      <td>Side Collision</td>\n",
       "      <td>Major Damage</td>\n",
       "      <td>Police</td>\n",
       "      <td>SC</td>\n",
       "      <td>Columbus</td>\n",
       "      <td>YES</td>\n",
       "      <td>YES</td>\n",
       "      <td>Saab</td>\n",
       "      <td>92x</td>\n",
       "      <td>Y</td>\n",
       "    </tr>\n",
       "    <tr>\n",
       "      <th>1</th>\n",
       "      <td>IN</td>\n",
       "      <td>250/500</td>\n",
       "      <td>MALE</td>\n",
       "      <td>MD</td>\n",
       "      <td>machine-op-inspct</td>\n",
       "      <td>reading</td>\n",
       "      <td>other-relative</td>\n",
       "      <td>1/21/2015</td>\n",
       "      <td>Vehicle Theft</td>\n",
       "      <td>NaN</td>\n",
       "      <td>Minor Damage</td>\n",
       "      <td>Police</td>\n",
       "      <td>VA</td>\n",
       "      <td>Riverwood</td>\n",
       "      <td>NaN</td>\n",
       "      <td>NaN</td>\n",
       "      <td>Mercedes</td>\n",
       "      <td>E400</td>\n",
       "      <td>Y</td>\n",
       "    </tr>\n",
       "    <tr>\n",
       "      <th>2</th>\n",
       "      <td>OH</td>\n",
       "      <td>100/300</td>\n",
       "      <td>FEMALE</td>\n",
       "      <td>PhD</td>\n",
       "      <td>sales</td>\n",
       "      <td>board-games</td>\n",
       "      <td>own-child</td>\n",
       "      <td>2/22/2015</td>\n",
       "      <td>Multi-vehicle Collision</td>\n",
       "      <td>Rear Collision</td>\n",
       "      <td>Minor Damage</td>\n",
       "      <td>Police</td>\n",
       "      <td>NY</td>\n",
       "      <td>Columbus</td>\n",
       "      <td>NO</td>\n",
       "      <td>NO</td>\n",
       "      <td>Dodge</td>\n",
       "      <td>RAM</td>\n",
       "      <td>N</td>\n",
       "    </tr>\n",
       "    <tr>\n",
       "      <th>3</th>\n",
       "      <td>IL</td>\n",
       "      <td>250/500</td>\n",
       "      <td>FEMALE</td>\n",
       "      <td>PhD</td>\n",
       "      <td>armed-forces</td>\n",
       "      <td>board-games</td>\n",
       "      <td>unmarried</td>\n",
       "      <td>1/10/2015</td>\n",
       "      <td>Single Vehicle Collision</td>\n",
       "      <td>Front Collision</td>\n",
       "      <td>Major Damage</td>\n",
       "      <td>Police</td>\n",
       "      <td>OH</td>\n",
       "      <td>Arlington</td>\n",
       "      <td>NaN</td>\n",
       "      <td>NO</td>\n",
       "      <td>Chevrolet</td>\n",
       "      <td>Tahoe</td>\n",
       "      <td>Y</td>\n",
       "    </tr>\n",
       "    <tr>\n",
       "      <th>4</th>\n",
       "      <td>IL</td>\n",
       "      <td>500/1000</td>\n",
       "      <td>MALE</td>\n",
       "      <td>Associate</td>\n",
       "      <td>sales</td>\n",
       "      <td>board-games</td>\n",
       "      <td>unmarried</td>\n",
       "      <td>2/17/2015</td>\n",
       "      <td>Vehicle Theft</td>\n",
       "      <td>NaN</td>\n",
       "      <td>Minor Damage</td>\n",
       "      <td>None</td>\n",
       "      <td>NY</td>\n",
       "      <td>Arlington</td>\n",
       "      <td>NO</td>\n",
       "      <td>NO</td>\n",
       "      <td>Accura</td>\n",
       "      <td>RSX</td>\n",
       "      <td>N</td>\n",
       "    </tr>\n",
       "  </tbody>\n",
       "</table>\n",
       "</div>"
      ],
      "text/plain": [
       "  policy_state policy_csl insured_sex insured_education_level  \\\n",
       "0           OH    250/500        MALE                      MD   \n",
       "1           IN    250/500        MALE                      MD   \n",
       "2           OH    100/300      FEMALE                     PhD   \n",
       "3           IL    250/500      FEMALE                     PhD   \n",
       "4           IL   500/1000        MALE               Associate   \n",
       "\n",
       "  insured_occupation insured_hobbies insured_relationship incident_date  \\\n",
       "0       craft-repair        sleeping              husband     1/25/2015   \n",
       "1  machine-op-inspct         reading       other-relative     1/21/2015   \n",
       "2              sales     board-games            own-child     2/22/2015   \n",
       "3       armed-forces     board-games            unmarried     1/10/2015   \n",
       "4              sales     board-games            unmarried     2/17/2015   \n",
       "\n",
       "              incident_type   collision_type incident_severity  \\\n",
       "0  Single Vehicle Collision   Side Collision      Major Damage   \n",
       "1             Vehicle Theft              NaN      Minor Damage   \n",
       "2   Multi-vehicle Collision   Rear Collision      Minor Damage   \n",
       "3  Single Vehicle Collision  Front Collision      Major Damage   \n",
       "4             Vehicle Theft              NaN      Minor Damage   \n",
       "\n",
       "  authorities_contacted incident_state incident_city property_damage  \\\n",
       "0                Police             SC      Columbus             YES   \n",
       "1                Police             VA     Riverwood             NaN   \n",
       "2                Police             NY      Columbus              NO   \n",
       "3                Police             OH     Arlington             NaN   \n",
       "4                  None             NY     Arlington              NO   \n",
       "\n",
       "  police_report_available  auto_make auto_model fraud_reported  \n",
       "0                     YES       Saab        92x              Y  \n",
       "1                     NaN   Mercedes       E400              Y  \n",
       "2                      NO      Dodge        RAM              N  \n",
       "3                      NO  Chevrolet      Tahoe              Y  \n",
       "4                      NO     Accura        RSX              N  "
      ]
     },
     "execution_count": 10,
     "metadata": {},
     "output_type": "execute_result"
    }
   ],
   "source": [
    "cat_data.head()"
   ]
  },
  {
   "cell_type": "code",
   "execution_count": 11,
   "metadata": {
    "ExecuteTime": {
     "end_time": "2022-03-10T02:01:02.083004Z",
     "start_time": "2022-03-10T02:01:02.021169Z"
    }
   },
   "outputs": [
    {
     "data": {
      "text/html": [
       "<div>\n",
       "<style scoped>\n",
       "    .dataframe tbody tr th:only-of-type {\n",
       "        vertical-align: middle;\n",
       "    }\n",
       "\n",
       "    .dataframe tbody tr th {\n",
       "        vertical-align: top;\n",
       "    }\n",
       "\n",
       "    .dataframe thead th {\n",
       "        text-align: right;\n",
       "    }\n",
       "</style>\n",
       "<table border=\"1\" class=\"dataframe\">\n",
       "  <thead>\n",
       "    <tr style=\"text-align: right;\">\n",
       "      <th></th>\n",
       "      <th>count</th>\n",
       "      <th>unique</th>\n",
       "      <th>top</th>\n",
       "      <th>freq</th>\n",
       "    </tr>\n",
       "  </thead>\n",
       "  <tbody>\n",
       "    <tr>\n",
       "      <th>policy_state</th>\n",
       "      <td>1000</td>\n",
       "      <td>3</td>\n",
       "      <td>OH</td>\n",
       "      <td>352</td>\n",
       "    </tr>\n",
       "    <tr>\n",
       "      <th>policy_csl</th>\n",
       "      <td>1000</td>\n",
       "      <td>3</td>\n",
       "      <td>250/500</td>\n",
       "      <td>351</td>\n",
       "    </tr>\n",
       "    <tr>\n",
       "      <th>insured_sex</th>\n",
       "      <td>1000</td>\n",
       "      <td>2</td>\n",
       "      <td>FEMALE</td>\n",
       "      <td>537</td>\n",
       "    </tr>\n",
       "    <tr>\n",
       "      <th>insured_education_level</th>\n",
       "      <td>1000</td>\n",
       "      <td>7</td>\n",
       "      <td>JD</td>\n",
       "      <td>161</td>\n",
       "    </tr>\n",
       "    <tr>\n",
       "      <th>insured_occupation</th>\n",
       "      <td>1000</td>\n",
       "      <td>14</td>\n",
       "      <td>machine-op-inspct</td>\n",
       "      <td>93</td>\n",
       "    </tr>\n",
       "    <tr>\n",
       "      <th>insured_hobbies</th>\n",
       "      <td>1000</td>\n",
       "      <td>20</td>\n",
       "      <td>reading</td>\n",
       "      <td>64</td>\n",
       "    </tr>\n",
       "    <tr>\n",
       "      <th>insured_relationship</th>\n",
       "      <td>1000</td>\n",
       "      <td>6</td>\n",
       "      <td>own-child</td>\n",
       "      <td>183</td>\n",
       "    </tr>\n",
       "    <tr>\n",
       "      <th>incident_date</th>\n",
       "      <td>1000</td>\n",
       "      <td>60</td>\n",
       "      <td>2/2/2015</td>\n",
       "      <td>28</td>\n",
       "    </tr>\n",
       "    <tr>\n",
       "      <th>incident_type</th>\n",
       "      <td>1000</td>\n",
       "      <td>4</td>\n",
       "      <td>Multi-vehicle Collision</td>\n",
       "      <td>419</td>\n",
       "    </tr>\n",
       "    <tr>\n",
       "      <th>collision_type</th>\n",
       "      <td>822</td>\n",
       "      <td>3</td>\n",
       "      <td>Rear Collision</td>\n",
       "      <td>292</td>\n",
       "    </tr>\n",
       "    <tr>\n",
       "      <th>incident_severity</th>\n",
       "      <td>1000</td>\n",
       "      <td>4</td>\n",
       "      <td>Minor Damage</td>\n",
       "      <td>354</td>\n",
       "    </tr>\n",
       "    <tr>\n",
       "      <th>authorities_contacted</th>\n",
       "      <td>1000</td>\n",
       "      <td>5</td>\n",
       "      <td>Police</td>\n",
       "      <td>292</td>\n",
       "    </tr>\n",
       "    <tr>\n",
       "      <th>incident_state</th>\n",
       "      <td>1000</td>\n",
       "      <td>7</td>\n",
       "      <td>NY</td>\n",
       "      <td>262</td>\n",
       "    </tr>\n",
       "    <tr>\n",
       "      <th>incident_city</th>\n",
       "      <td>1000</td>\n",
       "      <td>7</td>\n",
       "      <td>Springfield</td>\n",
       "      <td>157</td>\n",
       "    </tr>\n",
       "    <tr>\n",
       "      <th>property_damage</th>\n",
       "      <td>640</td>\n",
       "      <td>2</td>\n",
       "      <td>NO</td>\n",
       "      <td>338</td>\n",
       "    </tr>\n",
       "    <tr>\n",
       "      <th>police_report_available</th>\n",
       "      <td>657</td>\n",
       "      <td>2</td>\n",
       "      <td>NO</td>\n",
       "      <td>343</td>\n",
       "    </tr>\n",
       "    <tr>\n",
       "      <th>auto_make</th>\n",
       "      <td>1000</td>\n",
       "      <td>14</td>\n",
       "      <td>Suburu</td>\n",
       "      <td>80</td>\n",
       "    </tr>\n",
       "    <tr>\n",
       "      <th>auto_model</th>\n",
       "      <td>1000</td>\n",
       "      <td>39</td>\n",
       "      <td>RAM</td>\n",
       "      <td>43</td>\n",
       "    </tr>\n",
       "    <tr>\n",
       "      <th>fraud_reported</th>\n",
       "      <td>1000</td>\n",
       "      <td>2</td>\n",
       "      <td>N</td>\n",
       "      <td>753</td>\n",
       "    </tr>\n",
       "  </tbody>\n",
       "</table>\n",
       "</div>"
      ],
      "text/plain": [
       "                        count unique                      top freq\n",
       "policy_state             1000      3                       OH  352\n",
       "policy_csl               1000      3                  250/500  351\n",
       "insured_sex              1000      2                   FEMALE  537\n",
       "insured_education_level  1000      7                       JD  161\n",
       "insured_occupation       1000     14        machine-op-inspct   93\n",
       "insured_hobbies          1000     20                  reading   64\n",
       "insured_relationship     1000      6                own-child  183\n",
       "incident_date            1000     60                 2/2/2015   28\n",
       "incident_type            1000      4  Multi-vehicle Collision  419\n",
       "collision_type            822      3           Rear Collision  292\n",
       "incident_severity        1000      4             Minor Damage  354\n",
       "authorities_contacted    1000      5                   Police  292\n",
       "incident_state           1000      7                       NY  262\n",
       "incident_city            1000      7              Springfield  157\n",
       "property_damage           640      2                       NO  338\n",
       "police_report_available   657      2                       NO  343\n",
       "auto_make                1000     14                   Suburu   80\n",
       "auto_model               1000     39                      RAM   43\n",
       "fraud_reported           1000      2                        N  753"
      ]
     },
     "execution_count": 11,
     "metadata": {},
     "output_type": "execute_result"
    }
   ],
   "source": [
    "cat_data.describe().T"
   ]
  },
  {
   "cell_type": "markdown",
   "metadata": {},
   "source": [
    "### check for Ordinal & Nominal cat features"
   ]
  },
  {
   "cell_type": "code",
   "execution_count": 12,
   "metadata": {
    "ExecuteTime": {
     "end_time": "2022-03-10T02:01:02.098994Z",
     "start_time": "2022-03-10T02:01:02.084002Z"
    }
   },
   "outputs": [
    {
     "name": "stdout",
     "output_type": "stream",
     "text": [
      "policy_state\n",
      "['OH' 'IN' 'IL']\n",
      "policy_csl\n",
      "['250/500' '100/300' '500/1000']\n",
      "insured_sex\n",
      "['MALE' 'FEMALE']\n",
      "insured_education_level\n",
      "['MD' 'PhD' 'Associate' 'Masters' 'High School' 'College' 'JD']\n",
      "insured_occupation\n",
      "['craft-repair' 'machine-op-inspct' 'sales' 'armed-forces' 'tech-support'\n",
      " 'prof-specialty' 'other-service' 'priv-house-serv' 'exec-managerial'\n",
      " 'protective-serv' 'transport-moving' 'handlers-cleaners' 'adm-clerical'\n",
      " 'farming-fishing']\n",
      "insured_hobbies\n",
      "['sleeping' 'reading' 'board-games' 'bungie-jumping' 'base-jumping' 'golf'\n",
      " 'camping' 'dancing' 'skydiving' 'movies' 'hiking' 'yachting' 'paintball'\n",
      " 'chess' 'kayaking' 'polo' 'basketball' 'video-games' 'cross-fit'\n",
      " 'exercise']\n",
      "insured_relationship\n",
      "['husband' 'other-relative' 'own-child' 'unmarried' 'wife' 'not-in-family']\n",
      "incident_date\n",
      "['1/25/2015' '1/21/2015' '2/22/2015' '1/10/2015' '2/17/2015' '1/2/2015'\n",
      " '1/13/2015' '2/27/2015' '1/30/2015' '1/5/2015' '1/6/2015' '2/15/2015'\n",
      " '1/22/2015' '1/8/2015' '1/15/2015' '1/29/2015' '1/19/2015' '1/1/2015'\n",
      " '2/10/2015' '1/11/2015' '2/24/2015' '1/9/2015' '1/28/2015' '1/7/2015'\n",
      " '1/18/2015' '2/28/2015' '2/12/2015' '1/24/2015' '1/3/2015' '1/16/2015'\n",
      " '2/14/2015' '2/21/2015' '2/18/2015' '2/26/2015' '1/17/2015' '1/27/2015'\n",
      " '2/11/2015' '1/12/2015' '2/6/2015' '1/20/2015' '2/2/2015' '2/20/2015'\n",
      " '2/8/2015' '2/23/2015' '3/1/2015' '1/14/2015' '2/19/2015' '2/9/2015'\n",
      " '1/26/2015' '1/23/2015' '1/31/2015' '2/3/2015' '2/1/2015' '2/5/2015'\n",
      " '2/25/2015' '2/16/2015' '2/13/2015' '2/4/2015' '2/7/2015' '1/4/2015']\n",
      "incident_type\n",
      "['Single Vehicle Collision' 'Vehicle Theft' 'Multi-vehicle Collision'\n",
      " 'Parked Car']\n",
      "collision_type\n",
      "['Side Collision' nan 'Rear Collision' 'Front Collision']\n",
      "incident_severity\n",
      "['Major Damage' 'Minor Damage' 'Total Loss' 'Trivial Damage']\n",
      "authorities_contacted\n",
      "['Police' 'None' 'Fire' 'Other' 'Ambulance']\n",
      "incident_state\n",
      "['SC' 'VA' 'NY' 'OH' 'WV' 'NC' 'PA']\n",
      "incident_city\n",
      "['Columbus' 'Riverwood' 'Arlington' 'Springfield' 'Hillsdale' 'Northbend'\n",
      " 'Northbrook']\n",
      "property_damage\n",
      "['YES' nan 'NO']\n",
      "police_report_available\n",
      "['YES' nan 'NO']\n",
      "auto_make\n",
      "['Saab' 'Mercedes' 'Dodge' 'Chevrolet' 'Accura' 'Nissan' 'Audi' 'Toyota'\n",
      " 'Ford' 'Suburu' 'BMW' 'Jeep' 'Honda' 'Volkswagen']\n",
      "auto_model\n",
      "['92x' 'E400' 'RAM' 'Tahoe' 'RSX' '95' 'Pathfinder' 'A5' 'Camry' 'F150'\n",
      " 'A3' 'Highlander' 'Neon' 'MDX' 'Maxima' 'Legacy' 'TL' 'Impreza'\n",
      " 'Forrestor' 'Escape' 'Corolla' '3 Series' 'C300' 'Wrangler' 'M5' 'X5'\n",
      " 'Civic' 'Passat' 'Silverado' 'CRV' '93' 'Accord' 'X6' 'Malibu' 'Fusion'\n",
      " 'Jetta' 'ML350' 'Ultima' 'Grand Cherokee']\n",
      "fraud_reported\n",
      "['Y' 'N']\n"
     ]
    }
   ],
   "source": [
    "# getting unique values for each cat features\n",
    "for col in cat_data.columns:\n",
    "    print(f\"{col}\\n{cat_data[col].unique()}\")"
   ]
  },
  {
   "cell_type": "markdown",
   "metadata": {},
   "source": [
    "- policy_csl,insured_education_level,incident_severity can be considered as ordinal\n",
    "-incident_date, need to have applicaion date to get days old incident, which could have been more relevent, as we do not have claim application date, we will drop incident_date"
   ]
  },
  {
   "cell_type": "code",
   "execution_count": 13,
   "metadata": {
    "ExecuteTime": {
     "end_time": "2022-03-10T02:01:02.114919Z",
     "start_time": "2022-03-10T02:01:02.099959Z"
    }
   },
   "outputs": [],
   "source": [
    "# Mapping ordinal cat features\n",
    "cat_data['policy_csl'] = cat_data['policy_csl'].map({'100/300' : 1, '250/500' : 2 ,'500/1000':3})\n",
    "cat_data['insured_education_level'] = cat_data['insured_education_level'].map({'JD' : 1, 'High School' : 2,'College':3,'Masters,Associate':5,'MD':6,'PhD':7})\n",
    "cat_data['incident_severity'] = cat_data['incident_severity'].map({'Trivial Damage' : 1, 'Minor Damage' : 2,'Major Damage':3,'Total Loss':4})"
   ]
  },
  {
   "cell_type": "code",
   "execution_count": 14,
   "metadata": {
    "ExecuteTime": {
     "end_time": "2022-03-10T02:01:02.130876Z",
     "start_time": "2022-03-10T02:01:02.115928Z"
    }
   },
   "outputs": [],
   "source": [
    "cat_data = cat_data.drop(['incident_date'],axis=1)"
   ]
  },
  {
   "cell_type": "code",
   "execution_count": 15,
   "metadata": {
    "ExecuteTime": {
     "end_time": "2022-03-10T02:01:02.162792Z",
     "start_time": "2022-03-10T02:01:02.131874Z"
    }
   },
   "outputs": [
    {
     "data": {
      "text/html": [
       "<div>\n",
       "<style scoped>\n",
       "    .dataframe tbody tr th:only-of-type {\n",
       "        vertical-align: middle;\n",
       "    }\n",
       "\n",
       "    .dataframe tbody tr th {\n",
       "        vertical-align: top;\n",
       "    }\n",
       "\n",
       "    .dataframe thead th {\n",
       "        text-align: right;\n",
       "    }\n",
       "</style>\n",
       "<table border=\"1\" class=\"dataframe\">\n",
       "  <thead>\n",
       "    <tr style=\"text-align: right;\">\n",
       "      <th></th>\n",
       "      <th>policy_state</th>\n",
       "      <th>policy_csl</th>\n",
       "      <th>insured_sex</th>\n",
       "      <th>insured_education_level</th>\n",
       "      <th>insured_occupation</th>\n",
       "      <th>insured_hobbies</th>\n",
       "      <th>insured_relationship</th>\n",
       "      <th>incident_type</th>\n",
       "      <th>collision_type</th>\n",
       "      <th>incident_severity</th>\n",
       "      <th>authorities_contacted</th>\n",
       "      <th>incident_state</th>\n",
       "      <th>incident_city</th>\n",
       "      <th>property_damage</th>\n",
       "      <th>police_report_available</th>\n",
       "      <th>auto_make</th>\n",
       "      <th>auto_model</th>\n",
       "      <th>fraud_reported</th>\n",
       "    </tr>\n",
       "  </thead>\n",
       "  <tbody>\n",
       "    <tr>\n",
       "      <th>0</th>\n",
       "      <td>OH</td>\n",
       "      <td>2</td>\n",
       "      <td>MALE</td>\n",
       "      <td>6.0</td>\n",
       "      <td>craft-repair</td>\n",
       "      <td>sleeping</td>\n",
       "      <td>husband</td>\n",
       "      <td>Single Vehicle Collision</td>\n",
       "      <td>Side Collision</td>\n",
       "      <td>3</td>\n",
       "      <td>Police</td>\n",
       "      <td>SC</td>\n",
       "      <td>Columbus</td>\n",
       "      <td>YES</td>\n",
       "      <td>YES</td>\n",
       "      <td>Saab</td>\n",
       "      <td>92x</td>\n",
       "      <td>Y</td>\n",
       "    </tr>\n",
       "    <tr>\n",
       "      <th>1</th>\n",
       "      <td>IN</td>\n",
       "      <td>2</td>\n",
       "      <td>MALE</td>\n",
       "      <td>6.0</td>\n",
       "      <td>machine-op-inspct</td>\n",
       "      <td>reading</td>\n",
       "      <td>other-relative</td>\n",
       "      <td>Vehicle Theft</td>\n",
       "      <td>NaN</td>\n",
       "      <td>2</td>\n",
       "      <td>Police</td>\n",
       "      <td>VA</td>\n",
       "      <td>Riverwood</td>\n",
       "      <td>NaN</td>\n",
       "      <td>NaN</td>\n",
       "      <td>Mercedes</td>\n",
       "      <td>E400</td>\n",
       "      <td>Y</td>\n",
       "    </tr>\n",
       "    <tr>\n",
       "      <th>2</th>\n",
       "      <td>OH</td>\n",
       "      <td>1</td>\n",
       "      <td>FEMALE</td>\n",
       "      <td>7.0</td>\n",
       "      <td>sales</td>\n",
       "      <td>board-games</td>\n",
       "      <td>own-child</td>\n",
       "      <td>Multi-vehicle Collision</td>\n",
       "      <td>Rear Collision</td>\n",
       "      <td>2</td>\n",
       "      <td>Police</td>\n",
       "      <td>NY</td>\n",
       "      <td>Columbus</td>\n",
       "      <td>NO</td>\n",
       "      <td>NO</td>\n",
       "      <td>Dodge</td>\n",
       "      <td>RAM</td>\n",
       "      <td>N</td>\n",
       "    </tr>\n",
       "    <tr>\n",
       "      <th>3</th>\n",
       "      <td>IL</td>\n",
       "      <td>2</td>\n",
       "      <td>FEMALE</td>\n",
       "      <td>7.0</td>\n",
       "      <td>armed-forces</td>\n",
       "      <td>board-games</td>\n",
       "      <td>unmarried</td>\n",
       "      <td>Single Vehicle Collision</td>\n",
       "      <td>Front Collision</td>\n",
       "      <td>3</td>\n",
       "      <td>Police</td>\n",
       "      <td>OH</td>\n",
       "      <td>Arlington</td>\n",
       "      <td>NaN</td>\n",
       "      <td>NO</td>\n",
       "      <td>Chevrolet</td>\n",
       "      <td>Tahoe</td>\n",
       "      <td>Y</td>\n",
       "    </tr>\n",
       "    <tr>\n",
       "      <th>4</th>\n",
       "      <td>IL</td>\n",
       "      <td>3</td>\n",
       "      <td>MALE</td>\n",
       "      <td>NaN</td>\n",
       "      <td>sales</td>\n",
       "      <td>board-games</td>\n",
       "      <td>unmarried</td>\n",
       "      <td>Vehicle Theft</td>\n",
       "      <td>NaN</td>\n",
       "      <td>2</td>\n",
       "      <td>None</td>\n",
       "      <td>NY</td>\n",
       "      <td>Arlington</td>\n",
       "      <td>NO</td>\n",
       "      <td>NO</td>\n",
       "      <td>Accura</td>\n",
       "      <td>RSX</td>\n",
       "      <td>N</td>\n",
       "    </tr>\n",
       "  </tbody>\n",
       "</table>\n",
       "</div>"
      ],
      "text/plain": [
       "  policy_state  policy_csl insured_sex  insured_education_level  \\\n",
       "0           OH           2        MALE                      6.0   \n",
       "1           IN           2        MALE                      6.0   \n",
       "2           OH           1      FEMALE                      7.0   \n",
       "3           IL           2      FEMALE                      7.0   \n",
       "4           IL           3        MALE                      NaN   \n",
       "\n",
       "  insured_occupation insured_hobbies insured_relationship  \\\n",
       "0       craft-repair        sleeping              husband   \n",
       "1  machine-op-inspct         reading       other-relative   \n",
       "2              sales     board-games            own-child   \n",
       "3       armed-forces     board-games            unmarried   \n",
       "4              sales     board-games            unmarried   \n",
       "\n",
       "              incident_type   collision_type  incident_severity  \\\n",
       "0  Single Vehicle Collision   Side Collision                  3   \n",
       "1             Vehicle Theft              NaN                  2   \n",
       "2   Multi-vehicle Collision   Rear Collision                  2   \n",
       "3  Single Vehicle Collision  Front Collision                  3   \n",
       "4             Vehicle Theft              NaN                  2   \n",
       "\n",
       "  authorities_contacted incident_state incident_city property_damage  \\\n",
       "0                Police             SC      Columbus             YES   \n",
       "1                Police             VA     Riverwood             NaN   \n",
       "2                Police             NY      Columbus              NO   \n",
       "3                Police             OH     Arlington             NaN   \n",
       "4                  None             NY     Arlington              NO   \n",
       "\n",
       "  police_report_available  auto_make auto_model fraud_reported  \n",
       "0                     YES       Saab        92x              Y  \n",
       "1                     NaN   Mercedes       E400              Y  \n",
       "2                      NO      Dodge        RAM              N  \n",
       "3                      NO  Chevrolet      Tahoe              Y  \n",
       "4                      NO     Accura        RSX              N  "
      ]
     },
     "execution_count": 15,
     "metadata": {},
     "output_type": "execute_result"
    }
   ],
   "source": [
    "cat_data.head()"
   ]
  },
  {
   "cell_type": "code",
   "execution_count": 16,
   "metadata": {
    "ExecuteTime": {
     "end_time": "2022-03-10T02:01:02.384294Z",
     "start_time": "2022-03-10T02:01:02.164798Z"
    }
   },
   "outputs": [
    {
     "data": {
      "text/plain": [
       "policy_state               0\n",
       "policy_csl                 0\n",
       "insured_sex                0\n",
       "insured_education_level    0\n",
       "insured_occupation         0\n",
       "insured_hobbies            0\n",
       "insured_relationship       0\n",
       "incident_type              0\n",
       "collision_type             0\n",
       "incident_severity          0\n",
       "authorities_contacted      0\n",
       "incident_state             0\n",
       "incident_city              0\n",
       "property_damage            0\n",
       "police_report_available    0\n",
       "auto_make                  0\n",
       "auto_model                 0\n",
       "fraud_reported             0\n",
       "dtype: int64"
      ]
     },
     "execution_count": 16,
     "metadata": {},
     "output_type": "execute_result"
    }
   ],
   "source": [
    "# imputing missing values\n",
    "from sklearn.impute import SimpleImputer\n",
    "imputer = SimpleImputer(strategy='most_frequent')\n",
    "cat_data_impute =pd.DataFrame(imputer.fit_transform(cat_data), columns=cat_data.columns)\n",
    "cat_data_impute.isna().sum()"
   ]
  },
  {
   "cell_type": "code",
   "execution_count": 17,
   "metadata": {
    "ExecuteTime": {
     "end_time": "2022-03-10T02:01:02.415104Z",
     "start_time": "2022-03-10T02:01:02.386291Z"
    },
    "scrolled": true
   },
   "outputs": [
    {
     "data": {
      "text/html": [
       "<div>\n",
       "<style scoped>\n",
       "    .dataframe tbody tr th:only-of-type {\n",
       "        vertical-align: middle;\n",
       "    }\n",
       "\n",
       "    .dataframe tbody tr th {\n",
       "        vertical-align: top;\n",
       "    }\n",
       "\n",
       "    .dataframe thead th {\n",
       "        text-align: right;\n",
       "    }\n",
       "</style>\n",
       "<table border=\"1\" class=\"dataframe\">\n",
       "  <thead>\n",
       "    <tr style=\"text-align: right;\">\n",
       "      <th></th>\n",
       "      <th>policy_state</th>\n",
       "      <th>policy_csl</th>\n",
       "      <th>insured_sex</th>\n",
       "      <th>insured_education_level</th>\n",
       "      <th>insured_occupation</th>\n",
       "      <th>insured_hobbies</th>\n",
       "      <th>insured_relationship</th>\n",
       "      <th>incident_type</th>\n",
       "      <th>collision_type</th>\n",
       "      <th>incident_severity</th>\n",
       "      <th>authorities_contacted</th>\n",
       "      <th>incident_state</th>\n",
       "      <th>incident_city</th>\n",
       "      <th>property_damage</th>\n",
       "      <th>police_report_available</th>\n",
       "      <th>auto_make</th>\n",
       "      <th>auto_model</th>\n",
       "      <th>fraud_reported</th>\n",
       "    </tr>\n",
       "  </thead>\n",
       "  <tbody>\n",
       "    <tr>\n",
       "      <th>0</th>\n",
       "      <td>OH</td>\n",
       "      <td>2</td>\n",
       "      <td>MALE</td>\n",
       "      <td>6</td>\n",
       "      <td>craft-repair</td>\n",
       "      <td>sleeping</td>\n",
       "      <td>husband</td>\n",
       "      <td>Single Vehicle Collision</td>\n",
       "      <td>Side Collision</td>\n",
       "      <td>3</td>\n",
       "      <td>Police</td>\n",
       "      <td>SC</td>\n",
       "      <td>Columbus</td>\n",
       "      <td>YES</td>\n",
       "      <td>YES</td>\n",
       "      <td>Saab</td>\n",
       "      <td>92x</td>\n",
       "      <td>Y</td>\n",
       "    </tr>\n",
       "    <tr>\n",
       "      <th>1</th>\n",
       "      <td>IN</td>\n",
       "      <td>2</td>\n",
       "      <td>MALE</td>\n",
       "      <td>6</td>\n",
       "      <td>machine-op-inspct</td>\n",
       "      <td>reading</td>\n",
       "      <td>other-relative</td>\n",
       "      <td>Vehicle Theft</td>\n",
       "      <td>Rear Collision</td>\n",
       "      <td>2</td>\n",
       "      <td>Police</td>\n",
       "      <td>VA</td>\n",
       "      <td>Riverwood</td>\n",
       "      <td>NO</td>\n",
       "      <td>NO</td>\n",
       "      <td>Mercedes</td>\n",
       "      <td>E400</td>\n",
       "      <td>Y</td>\n",
       "    </tr>\n",
       "    <tr>\n",
       "      <th>2</th>\n",
       "      <td>OH</td>\n",
       "      <td>1</td>\n",
       "      <td>FEMALE</td>\n",
       "      <td>7</td>\n",
       "      <td>sales</td>\n",
       "      <td>board-games</td>\n",
       "      <td>own-child</td>\n",
       "      <td>Multi-vehicle Collision</td>\n",
       "      <td>Rear Collision</td>\n",
       "      <td>2</td>\n",
       "      <td>Police</td>\n",
       "      <td>NY</td>\n",
       "      <td>Columbus</td>\n",
       "      <td>NO</td>\n",
       "      <td>NO</td>\n",
       "      <td>Dodge</td>\n",
       "      <td>RAM</td>\n",
       "      <td>N</td>\n",
       "    </tr>\n",
       "    <tr>\n",
       "      <th>3</th>\n",
       "      <td>IL</td>\n",
       "      <td>2</td>\n",
       "      <td>FEMALE</td>\n",
       "      <td>7</td>\n",
       "      <td>armed-forces</td>\n",
       "      <td>board-games</td>\n",
       "      <td>unmarried</td>\n",
       "      <td>Single Vehicle Collision</td>\n",
       "      <td>Front Collision</td>\n",
       "      <td>3</td>\n",
       "      <td>Police</td>\n",
       "      <td>OH</td>\n",
       "      <td>Arlington</td>\n",
       "      <td>NO</td>\n",
       "      <td>NO</td>\n",
       "      <td>Chevrolet</td>\n",
       "      <td>Tahoe</td>\n",
       "      <td>Y</td>\n",
       "    </tr>\n",
       "    <tr>\n",
       "      <th>4</th>\n",
       "      <td>IL</td>\n",
       "      <td>3</td>\n",
       "      <td>MALE</td>\n",
       "      <td>1</td>\n",
       "      <td>sales</td>\n",
       "      <td>board-games</td>\n",
       "      <td>unmarried</td>\n",
       "      <td>Vehicle Theft</td>\n",
       "      <td>Rear Collision</td>\n",
       "      <td>2</td>\n",
       "      <td>None</td>\n",
       "      <td>NY</td>\n",
       "      <td>Arlington</td>\n",
       "      <td>NO</td>\n",
       "      <td>NO</td>\n",
       "      <td>Accura</td>\n",
       "      <td>RSX</td>\n",
       "      <td>N</td>\n",
       "    </tr>\n",
       "  </tbody>\n",
       "</table>\n",
       "</div>"
      ],
      "text/plain": [
       "  policy_state policy_csl insured_sex insured_education_level  \\\n",
       "0           OH          2        MALE                       6   \n",
       "1           IN          2        MALE                       6   \n",
       "2           OH          1      FEMALE                       7   \n",
       "3           IL          2      FEMALE                       7   \n",
       "4           IL          3        MALE                       1   \n",
       "\n",
       "  insured_occupation insured_hobbies insured_relationship  \\\n",
       "0       craft-repair        sleeping              husband   \n",
       "1  machine-op-inspct         reading       other-relative   \n",
       "2              sales     board-games            own-child   \n",
       "3       armed-forces     board-games            unmarried   \n",
       "4              sales     board-games            unmarried   \n",
       "\n",
       "              incident_type   collision_type incident_severity  \\\n",
       "0  Single Vehicle Collision   Side Collision                 3   \n",
       "1             Vehicle Theft   Rear Collision                 2   \n",
       "2   Multi-vehicle Collision   Rear Collision                 2   \n",
       "3  Single Vehicle Collision  Front Collision                 3   \n",
       "4             Vehicle Theft   Rear Collision                 2   \n",
       "\n",
       "  authorities_contacted incident_state incident_city property_damage  \\\n",
       "0                Police             SC      Columbus             YES   \n",
       "1                Police             VA     Riverwood              NO   \n",
       "2                Police             NY      Columbus              NO   \n",
       "3                Police             OH     Arlington              NO   \n",
       "4                  None             NY     Arlington              NO   \n",
       "\n",
       "  police_report_available  auto_make auto_model fraud_reported  \n",
       "0                     YES       Saab        92x              Y  \n",
       "1                      NO   Mercedes       E400              Y  \n",
       "2                      NO      Dodge        RAM              N  \n",
       "3                      NO  Chevrolet      Tahoe              Y  \n",
       "4                      NO     Accura        RSX              N  "
      ]
     },
     "execution_count": 17,
     "metadata": {},
     "output_type": "execute_result"
    }
   ],
   "source": [
    "cat_data_impute.head()"
   ]
  },
  {
   "cell_type": "markdown",
   "metadata": {},
   "source": [
    "### Target variable mapping"
   ]
  },
  {
   "cell_type": "code",
   "execution_count": 18,
   "metadata": {
    "ExecuteTime": {
     "end_time": "2022-03-10T02:01:02.430242Z",
     "start_time": "2022-03-10T02:01:02.416099Z"
    }
   },
   "outputs": [],
   "source": [
    "y = cat_data_impute['fraud_reported']\n",
    "y = y.map({'Y':1,'N':0})\n",
    "cat_data_impute = cat_data_impute.drop(['fraud_reported'],axis=1)"
   ]
  },
  {
   "cell_type": "code",
   "execution_count": 21,
   "metadata": {
    "ExecuteTime": {
     "end_time": "2022-03-10T02:01:47.087942Z",
     "start_time": "2022-03-10T02:01:47.063497Z"
    },
    "scrolled": false
   },
   "outputs": [
    {
     "data": {
      "text/html": [
       "<div>\n",
       "<style scoped>\n",
       "    .dataframe tbody tr th:only-of-type {\n",
       "        vertical-align: middle;\n",
       "    }\n",
       "\n",
       "    .dataframe tbody tr th {\n",
       "        vertical-align: top;\n",
       "    }\n",
       "\n",
       "    .dataframe thead th {\n",
       "        text-align: right;\n",
       "    }\n",
       "</style>\n",
       "<table border=\"1\" class=\"dataframe\">\n",
       "  <thead>\n",
       "    <tr style=\"text-align: right;\">\n",
       "      <th></th>\n",
       "      <th>policy_state</th>\n",
       "      <th>policy_csl</th>\n",
       "      <th>insured_sex</th>\n",
       "      <th>insured_education_level</th>\n",
       "      <th>insured_occupation</th>\n",
       "      <th>insured_hobbies</th>\n",
       "      <th>insured_relationship</th>\n",
       "      <th>incident_type</th>\n",
       "      <th>collision_type</th>\n",
       "      <th>incident_severity</th>\n",
       "      <th>authorities_contacted</th>\n",
       "      <th>incident_state</th>\n",
       "      <th>incident_city</th>\n",
       "      <th>property_damage</th>\n",
       "      <th>police_report_available</th>\n",
       "      <th>auto_make</th>\n",
       "      <th>auto_model</th>\n",
       "    </tr>\n",
       "  </thead>\n",
       "  <tbody>\n",
       "    <tr>\n",
       "      <th>0</th>\n",
       "      <td>OH</td>\n",
       "      <td>2</td>\n",
       "      <td>MALE</td>\n",
       "      <td>6</td>\n",
       "      <td>craft-repair</td>\n",
       "      <td>sleeping</td>\n",
       "      <td>husband</td>\n",
       "      <td>Single Vehicle Collision</td>\n",
       "      <td>Side Collision</td>\n",
       "      <td>3</td>\n",
       "      <td>Police</td>\n",
       "      <td>SC</td>\n",
       "      <td>Columbus</td>\n",
       "      <td>YES</td>\n",
       "      <td>YES</td>\n",
       "      <td>Saab</td>\n",
       "      <td>92x</td>\n",
       "    </tr>\n",
       "    <tr>\n",
       "      <th>1</th>\n",
       "      <td>IN</td>\n",
       "      <td>2</td>\n",
       "      <td>MALE</td>\n",
       "      <td>6</td>\n",
       "      <td>machine-op-inspct</td>\n",
       "      <td>reading</td>\n",
       "      <td>other-relative</td>\n",
       "      <td>Vehicle Theft</td>\n",
       "      <td>Rear Collision</td>\n",
       "      <td>2</td>\n",
       "      <td>Police</td>\n",
       "      <td>VA</td>\n",
       "      <td>Riverwood</td>\n",
       "      <td>NO</td>\n",
       "      <td>NO</td>\n",
       "      <td>Mercedes</td>\n",
       "      <td>E400</td>\n",
       "    </tr>\n",
       "    <tr>\n",
       "      <th>2</th>\n",
       "      <td>OH</td>\n",
       "      <td>1</td>\n",
       "      <td>FEMALE</td>\n",
       "      <td>7</td>\n",
       "      <td>sales</td>\n",
       "      <td>board-games</td>\n",
       "      <td>own-child</td>\n",
       "      <td>Multi-vehicle Collision</td>\n",
       "      <td>Rear Collision</td>\n",
       "      <td>2</td>\n",
       "      <td>Police</td>\n",
       "      <td>NY</td>\n",
       "      <td>Columbus</td>\n",
       "      <td>NO</td>\n",
       "      <td>NO</td>\n",
       "      <td>Dodge</td>\n",
       "      <td>RAM</td>\n",
       "    </tr>\n",
       "    <tr>\n",
       "      <th>3</th>\n",
       "      <td>IL</td>\n",
       "      <td>2</td>\n",
       "      <td>FEMALE</td>\n",
       "      <td>7</td>\n",
       "      <td>armed-forces</td>\n",
       "      <td>board-games</td>\n",
       "      <td>unmarried</td>\n",
       "      <td>Single Vehicle Collision</td>\n",
       "      <td>Front Collision</td>\n",
       "      <td>3</td>\n",
       "      <td>Police</td>\n",
       "      <td>OH</td>\n",
       "      <td>Arlington</td>\n",
       "      <td>NO</td>\n",
       "      <td>NO</td>\n",
       "      <td>Chevrolet</td>\n",
       "      <td>Tahoe</td>\n",
       "    </tr>\n",
       "    <tr>\n",
       "      <th>4</th>\n",
       "      <td>IL</td>\n",
       "      <td>3</td>\n",
       "      <td>MALE</td>\n",
       "      <td>1</td>\n",
       "      <td>sales</td>\n",
       "      <td>board-games</td>\n",
       "      <td>unmarried</td>\n",
       "      <td>Vehicle Theft</td>\n",
       "      <td>Rear Collision</td>\n",
       "      <td>2</td>\n",
       "      <td>None</td>\n",
       "      <td>NY</td>\n",
       "      <td>Arlington</td>\n",
       "      <td>NO</td>\n",
       "      <td>NO</td>\n",
       "      <td>Accura</td>\n",
       "      <td>RSX</td>\n",
       "    </tr>\n",
       "  </tbody>\n",
       "</table>\n",
       "</div>"
      ],
      "text/plain": [
       "  policy_state policy_csl insured_sex insured_education_level  \\\n",
       "0           OH          2        MALE                       6   \n",
       "1           IN          2        MALE                       6   \n",
       "2           OH          1      FEMALE                       7   \n",
       "3           IL          2      FEMALE                       7   \n",
       "4           IL          3        MALE                       1   \n",
       "\n",
       "  insured_occupation insured_hobbies insured_relationship  \\\n",
       "0       craft-repair        sleeping              husband   \n",
       "1  machine-op-inspct         reading       other-relative   \n",
       "2              sales     board-games            own-child   \n",
       "3       armed-forces     board-games            unmarried   \n",
       "4              sales     board-games            unmarried   \n",
       "\n",
       "              incident_type   collision_type incident_severity  \\\n",
       "0  Single Vehicle Collision   Side Collision                 3   \n",
       "1             Vehicle Theft   Rear Collision                 2   \n",
       "2   Multi-vehicle Collision   Rear Collision                 2   \n",
       "3  Single Vehicle Collision  Front Collision                 3   \n",
       "4             Vehicle Theft   Rear Collision                 2   \n",
       "\n",
       "  authorities_contacted incident_state incident_city property_damage  \\\n",
       "0                Police             SC      Columbus             YES   \n",
       "1                Police             VA     Riverwood              NO   \n",
       "2                Police             NY      Columbus              NO   \n",
       "3                Police             OH     Arlington              NO   \n",
       "4                  None             NY     Arlington              NO   \n",
       "\n",
       "  police_report_available  auto_make auto_model  \n",
       "0                     YES       Saab        92x  \n",
       "1                      NO   Mercedes       E400  \n",
       "2                      NO      Dodge        RAM  \n",
       "3                      NO  Chevrolet      Tahoe  \n",
       "4                      NO     Accura        RSX  "
      ]
     },
     "execution_count": 21,
     "metadata": {},
     "output_type": "execute_result"
    }
   ],
   "source": [
    "cat_data_impute.head()"
   ]
  },
  {
   "cell_type": "code",
   "execution_count": 22,
   "metadata": {
    "ExecuteTime": {
     "end_time": "2022-03-10T02:01:47.483082Z",
     "start_time": "2022-03-10T02:01:47.089670Z"
    },
    "scrolled": false
   },
   "outputs": [
    {
     "data": {
      "image/png": "[encoded data removed]",
      "text/plain": [
       "<Figure size 1080x360 with 1 Axes>"
      ]
     },
     "metadata": {},
     "output_type": "display_data"
    }
   ],
   "source": [
    "# as auto_mode has high cardinality, check its relation with target varibale\n",
    "plt.figure(figsize=(15,5))\n",
    "sns.countplot(data=cat_data_impute, x='auto_make', hue=y, )\n",
    "plt.xticks(rotation=90)\n",
    "plt.show()"
   ]
  },
  {
   "cell_type": "markdown",
   "metadata": {
    "ExecuteTime": {
     "end_time": "2022-03-09T10:02:35.045633Z",
     "start_time": "2022-03-09T10:02:35.034359Z"
    }
   },
   "source": [
    "- auto_make do not show much impact on fraud claims detection, as fraud claims are fairly uniformaly distributed for each auto make"
   ]
  },
  {
   "cell_type": "code",
   "execution_count": 23,
   "metadata": {
    "ExecuteTime": {
     "end_time": "2022-03-10T02:01:48.363829Z",
     "start_time": "2022-03-10T02:01:47.485071Z"
    },
    "scrolled": true
   },
   "outputs": [
    {
     "data": {
      "image/png": "[encoded data removed]",
      "text/plain": [
       "<Figure size 1080x360 with 1 Axes>"
      ]
     },
     "metadata": {},
     "output_type": "display_data"
    }
   ],
   "source": [
    "# as auto_mode has high cardinality, check its relation with target varibale\n",
    "plt.figure(figsize=(15,5))\n",
    "sns.countplot(data=cat_data_impute, x='auto_model', hue=y, )\n",
    "plt.xticks(rotation=90)\n",
    "plt.show()"
   ]
  },
  {
   "cell_type": "markdown",
   "metadata": {},
   "source": [
    "- difficult to judge relation, need to check with chi2 test"
   ]
  },
  {
   "cell_type": "markdown",
   "metadata": {
    "heading_collapsed": true
   },
   "source": [
    "### Encoding of cat varibales"
   ]
  },
  {
   "cell_type": "code",
   "execution_count": 24,
   "metadata": {
    "ExecuteTime": {
     "end_time": "2022-03-10T02:01:48.395322Z",
     "start_time": "2022-03-10T02:01:48.366124Z"
    },
    "hidden": true,
    "scrolled": false
   },
   "outputs": [
    {
     "name": "stdout",
     "output_type": "stream",
     "text": [
      "<class 'pandas.core.frame.DataFrame'>\n",
      "RangeIndex: 1000 entries, 0 to 999\n",
      "Data columns (total 17 columns):\n",
      " #   Column                   Non-Null Count  Dtype \n",
      "---  ------                   --------------  ----- \n",
      " 0   policy_state             1000 non-null   object\n",
      " 1   policy_csl               1000 non-null   int8  \n",
      " 2   insured_sex              1000 non-null   object\n",
      " 3   insured_education_level  1000 non-null   int8  \n",
      " 4   insured_occupation       1000 non-null   object\n",
      " 5   insured_hobbies          1000 non-null   object\n",
      " 6   insured_relationship     1000 non-null   object\n",
      " 7   incident_type            1000 non-null   object\n",
      " 8   collision_type           1000 non-null   object\n",
      " 9   incident_severity        1000 non-null   int8  \n",
      " 10  authorities_contacted    1000 non-null   object\n",
      " 11  incident_state           1000 non-null   object\n",
      " 12  incident_city            1000 non-null   object\n",
      " 13  property_damage          1000 non-null   object\n",
      " 14  police_report_available  1000 non-null   object\n",
      " 15  auto_make                1000 non-null   object\n",
      " 16  auto_model               1000 non-null   object\n",
      "dtypes: int8(3), object(14)\n",
      "memory usage: 112.4+ KB\n"
     ]
    }
   ],
   "source": [
    "# change dtype for mapped variables\n",
    "cat_data_impute['policy_csl'] = cat_data_impute['policy_csl'].astype('int8') \n",
    "cat_data_impute['insured_education_level'] = cat_data_impute['insured_education_level'].astype('int8') \n",
    "cat_data_impute['incident_severity'] = cat_data_impute['incident_severity'].astype('int8') \n",
    "cat_data_impute.info()"
   ]
  },
  {
   "cell_type": "code",
   "execution_count": 25,
   "metadata": {
    "ExecuteTime": {
     "end_time": "2022-03-10T02:01:48.442477Z",
     "start_time": "2022-03-10T02:01:48.397319Z"
    },
    "hidden": true
   },
   "outputs": [
    {
     "data": {
      "text/html": [
       "<div>\n",
       "<style scoped>\n",
       "    .dataframe tbody tr th:only-of-type {\n",
       "        vertical-align: middle;\n",
       "    }\n",
       "\n",
       "    .dataframe tbody tr th {\n",
       "        vertical-align: top;\n",
       "    }\n",
       "\n",
       "    .dataframe thead th {\n",
       "        text-align: right;\n",
       "    }\n",
       "</style>\n",
       "<table border=\"1\" class=\"dataframe\">\n",
       "  <thead>\n",
       "    <tr style=\"text-align: right;\">\n",
       "      <th></th>\n",
       "      <th>policy_csl</th>\n",
       "      <th>insured_education_level</th>\n",
       "      <th>incident_severity</th>\n",
       "      <th>policy_state_IN</th>\n",
       "      <th>policy_state_OH</th>\n",
       "      <th>insured_sex_MALE</th>\n",
       "      <th>insured_occupation_armed-forces</th>\n",
       "      <th>insured_occupation_craft-repair</th>\n",
       "      <th>insured_occupation_exec-managerial</th>\n",
       "      <th>insured_occupation_farming-fishing</th>\n",
       "      <th>...</th>\n",
       "      <th>auto_model_Pathfinder</th>\n",
       "      <th>auto_model_RAM</th>\n",
       "      <th>auto_model_RSX</th>\n",
       "      <th>auto_model_Silverado</th>\n",
       "      <th>auto_model_TL</th>\n",
       "      <th>auto_model_Tahoe</th>\n",
       "      <th>auto_model_Ultima</th>\n",
       "      <th>auto_model_Wrangler</th>\n",
       "      <th>auto_model_X5</th>\n",
       "      <th>auto_model_X6</th>\n",
       "    </tr>\n",
       "  </thead>\n",
       "  <tbody>\n",
       "    <tr>\n",
       "      <th>0</th>\n",
       "      <td>2</td>\n",
       "      <td>6</td>\n",
       "      <td>3</td>\n",
       "      <td>0</td>\n",
       "      <td>1</td>\n",
       "      <td>1</td>\n",
       "      <td>0</td>\n",
       "      <td>1</td>\n",
       "      <td>0</td>\n",
       "      <td>0</td>\n",
       "      <td>...</td>\n",
       "      <td>0</td>\n",
       "      <td>0</td>\n",
       "      <td>0</td>\n",
       "      <td>0</td>\n",
       "      <td>0</td>\n",
       "      <td>0</td>\n",
       "      <td>0</td>\n",
       "      <td>0</td>\n",
       "      <td>0</td>\n",
       "      <td>0</td>\n",
       "    </tr>\n",
       "    <tr>\n",
       "      <th>1</th>\n",
       "      <td>2</td>\n",
       "      <td>6</td>\n",
       "      <td>2</td>\n",
       "      <td>1</td>\n",
       "      <td>0</td>\n",
       "      <td>1</td>\n",
       "      <td>0</td>\n",
       "      <td>0</td>\n",
       "      <td>0</td>\n",
       "      <td>0</td>\n",
       "      <td>...</td>\n",
       "      <td>0</td>\n",
       "      <td>0</td>\n",
       "      <td>0</td>\n",
       "      <td>0</td>\n",
       "      <td>0</td>\n",
       "      <td>0</td>\n",
       "      <td>0</td>\n",
       "      <td>0</td>\n",
       "      <td>0</td>\n",
       "      <td>0</td>\n",
       "    </tr>\n",
       "    <tr>\n",
       "      <th>2</th>\n",
       "      <td>1</td>\n",
       "      <td>7</td>\n",
       "      <td>2</td>\n",
       "      <td>0</td>\n",
       "      <td>1</td>\n",
       "      <td>0</td>\n",
       "      <td>0</td>\n",
       "      <td>0</td>\n",
       "      <td>0</td>\n",
       "      <td>0</td>\n",
       "      <td>...</td>\n",
       "      <td>0</td>\n",
       "      <td>1</td>\n",
       "      <td>0</td>\n",
       "      <td>0</td>\n",
       "      <td>0</td>\n",
       "      <td>0</td>\n",
       "      <td>0</td>\n",
       "      <td>0</td>\n",
       "      <td>0</td>\n",
       "      <td>0</td>\n",
       "    </tr>\n",
       "    <tr>\n",
       "      <th>3</th>\n",
       "      <td>2</td>\n",
       "      <td>7</td>\n",
       "      <td>3</td>\n",
       "      <td>0</td>\n",
       "      <td>0</td>\n",
       "      <td>0</td>\n",
       "      <td>1</td>\n",
       "      <td>0</td>\n",
       "      <td>0</td>\n",
       "      <td>0</td>\n",
       "      <td>...</td>\n",
       "      <td>0</td>\n",
       "      <td>0</td>\n",
       "      <td>0</td>\n",
       "      <td>0</td>\n",
       "      <td>0</td>\n",
       "      <td>1</td>\n",
       "      <td>0</td>\n",
       "      <td>0</td>\n",
       "      <td>0</td>\n",
       "      <td>0</td>\n",
       "    </tr>\n",
       "    <tr>\n",
       "      <th>4</th>\n",
       "      <td>3</td>\n",
       "      <td>1</td>\n",
       "      <td>2</td>\n",
       "      <td>0</td>\n",
       "      <td>0</td>\n",
       "      <td>1</td>\n",
       "      <td>0</td>\n",
       "      <td>0</td>\n",
       "      <td>0</td>\n",
       "      <td>0</td>\n",
       "      <td>...</td>\n",
       "      <td>0</td>\n",
       "      <td>0</td>\n",
       "      <td>1</td>\n",
       "      <td>0</td>\n",
       "      <td>0</td>\n",
       "      <td>0</td>\n",
       "      <td>0</td>\n",
       "      <td>0</td>\n",
       "      <td>0</td>\n",
       "      <td>0</td>\n",
       "    </tr>\n",
       "  </tbody>\n",
       "</table>\n",
       "<p>5 rows × 117 columns</p>\n",
       "</div>"
      ],
      "text/plain": [
       "   policy_csl  insured_education_level  incident_severity  policy_state_IN  \\\n",
       "0           2                        6                  3                0   \n",
       "1           2                        6                  2                1   \n",
       "2           1                        7                  2                0   \n",
       "3           2                        7                  3                0   \n",
       "4           3                        1                  2                0   \n",
       "\n",
       "   policy_state_OH  insured_sex_MALE  insured_occupation_armed-forces  \\\n",
       "0                1                 1                                0   \n",
       "1                0                 1                                0   \n",
       "2                1                 0                                0   \n",
       "3                0                 0                                1   \n",
       "4                0                 1                                0   \n",
       "\n",
       "   insured_occupation_craft-repair  insured_occupation_exec-managerial  \\\n",
       "0                                1                                   0   \n",
       "1                                0                                   0   \n",
       "2                                0                                   0   \n",
       "3                                0                                   0   \n",
       "4                                0                                   0   \n",
       "\n",
       "   insured_occupation_farming-fishing  ...  auto_model_Pathfinder  \\\n",
       "0                                   0  ...                      0   \n",
       "1                                   0  ...                      0   \n",
       "2                                   0  ...                      0   \n",
       "3                                   0  ...                      0   \n",
       "4                                   0  ...                      0   \n",
       "\n",
       "   auto_model_RAM  auto_model_RSX  auto_model_Silverado  auto_model_TL  \\\n",
       "0               0               0                     0              0   \n",
       "1               0               0                     0              0   \n",
       "2               1               0                     0              0   \n",
       "3               0               0                     0              0   \n",
       "4               0               1                     0              0   \n",
       "\n",
       "   auto_model_Tahoe  auto_model_Ultima  auto_model_Wrangler  auto_model_X5  \\\n",
       "0                 0                  0                    0              0   \n",
       "1                 0                  0                    0              0   \n",
       "2                 0                  0                    0              0   \n",
       "3                 1                  0                    0              0   \n",
       "4                 0                  0                    0              0   \n",
       "\n",
       "   auto_model_X6  \n",
       "0              0  \n",
       "1              0  \n",
       "2              0  \n",
       "3              0  \n",
       "4              0  \n",
       "\n",
       "[5 rows x 117 columns]"
      ]
     },
     "execution_count": 25,
     "metadata": {},
     "output_type": "execute_result"
    }
   ],
   "source": [
    "catEncoded = pd.get_dummies(cat_data_impute,drop_first=True)\n",
    "catEncoded.head()"
   ]
  },
  {
   "cell_type": "markdown",
   "metadata": {
    "hidden": true
   },
   "source": [
    "- cat data are ready fo training"
   ]
  },
  {
   "cell_type": "code",
   "execution_count": 26,
   "metadata": {
    "ExecuteTime": {
     "end_time": "2022-03-10T02:01:48.474643Z",
     "start_time": "2022-03-10T02:01:48.444478Z"
    },
    "hidden": true
   },
   "outputs": [
    {
     "data": {
      "text/html": [
       "<div>\n",
       "<style scoped>\n",
       "    .dataframe tbody tr th:only-of-type {\n",
       "        vertical-align: middle;\n",
       "    }\n",
       "\n",
       "    .dataframe tbody tr th {\n",
       "        vertical-align: top;\n",
       "    }\n",
       "\n",
       "    .dataframe thead th {\n",
       "        text-align: right;\n",
       "    }\n",
       "</style>\n",
       "<table border=\"1\" class=\"dataframe\">\n",
       "  <thead>\n",
       "    <tr style=\"text-align: right;\">\n",
       "      <th></th>\n",
       "      <th>months_as_customer</th>\n",
       "      <th>age</th>\n",
       "      <th>policy_number</th>\n",
       "      <th>policy_deductable</th>\n",
       "      <th>policy_annual_premium</th>\n",
       "      <th>umbrella_limit</th>\n",
       "      <th>insured_zip</th>\n",
       "      <th>capital_gains</th>\n",
       "      <th>capital_loss</th>\n",
       "      <th>incident_hour_of_the_day</th>\n",
       "      <th>...</th>\n",
       "      <th>auto_model_Pathfinder</th>\n",
       "      <th>auto_model_RAM</th>\n",
       "      <th>auto_model_RSX</th>\n",
       "      <th>auto_model_Silverado</th>\n",
       "      <th>auto_model_TL</th>\n",
       "      <th>auto_model_Tahoe</th>\n",
       "      <th>auto_model_Ultima</th>\n",
       "      <th>auto_model_Wrangler</th>\n",
       "      <th>auto_model_X5</th>\n",
       "      <th>auto_model_X6</th>\n",
       "    </tr>\n",
       "  </thead>\n",
       "  <tbody>\n",
       "    <tr>\n",
       "      <th>0</th>\n",
       "      <td>328</td>\n",
       "      <td>48</td>\n",
       "      <td>521585</td>\n",
       "      <td>1000</td>\n",
       "      <td>1406.91</td>\n",
       "      <td>0</td>\n",
       "      <td>466132</td>\n",
       "      <td>53300</td>\n",
       "      <td>0</td>\n",
       "      <td>5</td>\n",
       "      <td>...</td>\n",
       "      <td>0</td>\n",
       "      <td>0</td>\n",
       "      <td>0</td>\n",
       "      <td>0</td>\n",
       "      <td>0</td>\n",
       "      <td>0</td>\n",
       "      <td>0</td>\n",
       "      <td>0</td>\n",
       "      <td>0</td>\n",
       "      <td>0</td>\n",
       "    </tr>\n",
       "    <tr>\n",
       "      <th>1</th>\n",
       "      <td>228</td>\n",
       "      <td>42</td>\n",
       "      <td>342868</td>\n",
       "      <td>2000</td>\n",
       "      <td>1197.22</td>\n",
       "      <td>5000000</td>\n",
       "      <td>468176</td>\n",
       "      <td>0</td>\n",
       "      <td>0</td>\n",
       "      <td>8</td>\n",
       "      <td>...</td>\n",
       "      <td>0</td>\n",
       "      <td>0</td>\n",
       "      <td>0</td>\n",
       "      <td>0</td>\n",
       "      <td>0</td>\n",
       "      <td>0</td>\n",
       "      <td>0</td>\n",
       "      <td>0</td>\n",
       "      <td>0</td>\n",
       "      <td>0</td>\n",
       "    </tr>\n",
       "    <tr>\n",
       "      <th>2</th>\n",
       "      <td>134</td>\n",
       "      <td>29</td>\n",
       "      <td>687698</td>\n",
       "      <td>2000</td>\n",
       "      <td>1413.14</td>\n",
       "      <td>5000000</td>\n",
       "      <td>430632</td>\n",
       "      <td>35100</td>\n",
       "      <td>0</td>\n",
       "      <td>7</td>\n",
       "      <td>...</td>\n",
       "      <td>0</td>\n",
       "      <td>1</td>\n",
       "      <td>0</td>\n",
       "      <td>0</td>\n",
       "      <td>0</td>\n",
       "      <td>0</td>\n",
       "      <td>0</td>\n",
       "      <td>0</td>\n",
       "      <td>0</td>\n",
       "      <td>0</td>\n",
       "    </tr>\n",
       "    <tr>\n",
       "      <th>3</th>\n",
       "      <td>256</td>\n",
       "      <td>41</td>\n",
       "      <td>227811</td>\n",
       "      <td>2000</td>\n",
       "      <td>1415.74</td>\n",
       "      <td>6000000</td>\n",
       "      <td>608117</td>\n",
       "      <td>48900</td>\n",
       "      <td>-62400</td>\n",
       "      <td>5</td>\n",
       "      <td>...</td>\n",
       "      <td>0</td>\n",
       "      <td>0</td>\n",
       "      <td>0</td>\n",
       "      <td>0</td>\n",
       "      <td>0</td>\n",
       "      <td>1</td>\n",
       "      <td>0</td>\n",
       "      <td>0</td>\n",
       "      <td>0</td>\n",
       "      <td>0</td>\n",
       "    </tr>\n",
       "    <tr>\n",
       "      <th>4</th>\n",
       "      <td>228</td>\n",
       "      <td>44</td>\n",
       "      <td>367455</td>\n",
       "      <td>1000</td>\n",
       "      <td>1583.91</td>\n",
       "      <td>6000000</td>\n",
       "      <td>610706</td>\n",
       "      <td>66000</td>\n",
       "      <td>-46000</td>\n",
       "      <td>20</td>\n",
       "      <td>...</td>\n",
       "      <td>0</td>\n",
       "      <td>0</td>\n",
       "      <td>1</td>\n",
       "      <td>0</td>\n",
       "      <td>0</td>\n",
       "      <td>0</td>\n",
       "      <td>0</td>\n",
       "      <td>0</td>\n",
       "      <td>0</td>\n",
       "      <td>0</td>\n",
       "    </tr>\n",
       "  </tbody>\n",
       "</table>\n",
       "<p>5 rows × 135 columns</p>\n",
       "</div>"
      ],
      "text/plain": [
       "   months_as_customer  age  policy_number  policy_deductable  \\\n",
       "0                 328   48         521585               1000   \n",
       "1                 228   42         342868               2000   \n",
       "2                 134   29         687698               2000   \n",
       "3                 256   41         227811               2000   \n",
       "4                 228   44         367455               1000   \n",
       "\n",
       "   policy_annual_premium  umbrella_limit  insured_zip  capital_gains  \\\n",
       "0                1406.91               0       466132          53300   \n",
       "1                1197.22         5000000       468176              0   \n",
       "2                1413.14         5000000       430632          35100   \n",
       "3                1415.74         6000000       608117          48900   \n",
       "4                1583.91         6000000       610706          66000   \n",
       "\n",
       "   capital_loss  incident_hour_of_the_day  ...  auto_model_Pathfinder  \\\n",
       "0             0                         5  ...                      0   \n",
       "1             0                         8  ...                      0   \n",
       "2             0                         7  ...                      0   \n",
       "3        -62400                         5  ...                      0   \n",
       "4        -46000                        20  ...                      0   \n",
       "\n",
       "   auto_model_RAM  auto_model_RSX  auto_model_Silverado  auto_model_TL  \\\n",
       "0               0               0                     0              0   \n",
       "1               0               0                     0              0   \n",
       "2               1               0                     0              0   \n",
       "3               0               0                     0              0   \n",
       "4               0               1                     0              0   \n",
       "\n",
       "   auto_model_Tahoe  auto_model_Ultima  auto_model_Wrangler  auto_model_X5  \\\n",
       "0                 0                  0                    0              0   \n",
       "1                 0                  0                    0              0   \n",
       "2                 0                  0                    0              0   \n",
       "3                 1                  0                    0              0   \n",
       "4                 0                  0                    0              0   \n",
       "\n",
       "   auto_model_X6  \n",
       "0              0  \n",
       "1              0  \n",
       "2              0  \n",
       "3              0  \n",
       "4              0  \n",
       "\n",
       "[5 rows x 135 columns]"
      ]
     },
     "execution_count": 26,
     "metadata": {},
     "output_type": "execute_result"
    }
   ],
   "source": [
    "dataFinal = pd.concat([num_data,catEncoded],axis=1)\n",
    "dataFinal.head()"
   ]
  },
  {
   "cell_type": "markdown",
   "metadata": {
    "heading_collapsed": true
   },
   "source": [
    "# Model training"
   ]
  },
  {
   "cell_type": "code",
   "execution_count": 27,
   "metadata": {
    "ExecuteTime": {
     "end_time": "2022-03-10T02:01:48.490900Z",
     "start_time": "2022-03-10T02:01:48.476391Z"
    },
    "hidden": true
   },
   "outputs": [],
   "source": [
    "from sklearn.model_selection import GridSearchCV, train_test_split\n",
    "X_train, X_val, y_train, y_val = train_test_split(dataFinal,y, test_size=0.2, random_state=2)\n",
    "def modelTrain(est,para_grid,X = X_train,Y=y_train):\n",
    "    grid = GridSearchCV(estimator=est,param_grid=para_grid,scoring='roc_auc', cv=5, n_jobs=-1)\n",
    "    grid.fit(X, Y)\n",
    "    model = grid.best_estimator_\n",
    "    return model ,grid"
   ]
  },
  {
   "cell_type": "code",
   "execution_count": 28,
   "metadata": {
    "ExecuteTime": {
     "end_time": "2022-03-10T02:01:48.507302Z",
     "start_time": "2022-03-10T02:01:48.493895Z"
    },
    "hidden": true
   },
   "outputs": [],
   "source": [
    "# changing thresod and check result\n",
    "def thresholdAdjust(model,threhold,X_val,y_val):\n",
    "    y_pred_prob = model.predict_proba(X_val)\n",
    "    y_pred_th = np.where(y_pred_prob[:,1]>threhold,1,0)\n",
    "    print(classification_report(y_val,y_pred_th))\n",
    "    print(confusion_matrix(y_val,y_pred_th))\n",
    "    print(roc_auc_score(y_val,y_pred_th))\n",
    "    RocCurveDisplay.from_predictions(y_val,y_pred_th)"
   ]
  },
  {
   "cell_type": "markdown",
   "metadata": {
    "heading_collapsed": true,
    "hidden": true
   },
   "source": [
    "#### XGB"
   ]
  },
  {
   "cell_type": "code",
   "execution_count": 29,
   "metadata": {
    "ExecuteTime": {
     "end_time": "2022-03-10T02:01:59.050071Z",
     "start_time": "2022-03-10T02:01:48.509211Z"
    },
    "hidden": true,
    "scrolled": true
   },
   "outputs": [
    {
     "name": "stderr",
     "output_type": "stream",
     "text": [
      "C:\\Users\\jadha\\anaconda3\\lib\\site-packages\\xgboost\\sklearn.py:1224: UserWarning: The use of label encoder in XGBClassifier is deprecated and will be removed in a future release. To remove this warning, do the following: 1) Pass option use_label_encoder=False when constructing XGBClassifier object; and 2) Encode your labels (y) as integers starting with 0, i.e. 0, 1, 2, ..., [num_class - 1].\n",
      "  warnings.warn(label_encoder_deprecation_msg, UserWarning)\n"
     ]
    }
   ],
   "source": [
    "# XGBoost \n",
    "from xgboost import XGBClassifier\n",
    "clfXGB = XGBClassifier(objective='binary:logistic', eval_metric ='auc')\n",
    "param_grid={'n_estimators':[50,100,150],\n",
    "           'learning_rate':[0.01,0.1,0.5],\n",
    "           }\n",
    "model, gridXGB = modelTrain(clfXGB,param_grid)"
   ]
  },
  {
   "cell_type": "code",
   "execution_count": 30,
   "metadata": {
    "ExecuteTime": {
     "end_time": "2022-03-10T02:01:59.081985Z",
     "start_time": "2022-03-10T02:01:59.052066Z"
    },
    "hidden": true,
    "scrolled": true
   },
   "outputs": [
    {
     "data": {
      "text/html": [
       "<div>\n",
       "<style scoped>\n",
       "    .dataframe tbody tr th:only-of-type {\n",
       "        vertical-align: middle;\n",
       "    }\n",
       "\n",
       "    .dataframe tbody tr th {\n",
       "        vertical-align: top;\n",
       "    }\n",
       "\n",
       "    .dataframe thead th {\n",
       "        text-align: right;\n",
       "    }\n",
       "</style>\n",
       "<table border=\"1\" class=\"dataframe\">\n",
       "  <thead>\n",
       "    <tr style=\"text-align: right;\">\n",
       "      <th></th>\n",
       "      <th>params</th>\n",
       "      <th>mean_test_score</th>\n",
       "      <th>rank_test_score</th>\n",
       "    </tr>\n",
       "  </thead>\n",
       "  <tbody>\n",
       "    <tr>\n",
       "      <th>0</th>\n",
       "      <td>{'learning_rate': 0.01, 'n_estimators': 50}</td>\n",
       "      <td>0.861266</td>\n",
       "      <td>1</td>\n",
       "    </tr>\n",
       "    <tr>\n",
       "      <th>1</th>\n",
       "      <td>{'learning_rate': 0.01, 'n_estimators': 100}</td>\n",
       "      <td>0.857555</td>\n",
       "      <td>6</td>\n",
       "    </tr>\n",
       "    <tr>\n",
       "      <th>2</th>\n",
       "      <td>{'learning_rate': 0.01, 'n_estimators': 150}</td>\n",
       "      <td>0.858022</td>\n",
       "      <td>4</td>\n",
       "    </tr>\n",
       "    <tr>\n",
       "      <th>3</th>\n",
       "      <td>{'learning_rate': 0.1, 'n_estimators': 50}</td>\n",
       "      <td>0.858724</td>\n",
       "      <td>3</td>\n",
       "    </tr>\n",
       "    <tr>\n",
       "      <th>4</th>\n",
       "      <td>{'learning_rate': 0.1, 'n_estimators': 100}</td>\n",
       "      <td>0.857950</td>\n",
       "      <td>5</td>\n",
       "    </tr>\n",
       "    <tr>\n",
       "      <th>5</th>\n",
       "      <td>{'learning_rate': 0.1, 'n_estimators': 150}</td>\n",
       "      <td>0.859839</td>\n",
       "      <td>2</td>\n",
       "    </tr>\n",
       "    <tr>\n",
       "      <th>6</th>\n",
       "      <td>{'learning_rate': 0.5, 'n_estimators': 50}</td>\n",
       "      <td>0.841139</td>\n",
       "      <td>7</td>\n",
       "    </tr>\n",
       "    <tr>\n",
       "      <th>7</th>\n",
       "      <td>{'learning_rate': 0.5, 'n_estimators': 100}</td>\n",
       "      <td>0.837380</td>\n",
       "      <td>8</td>\n",
       "    </tr>\n",
       "    <tr>\n",
       "      <th>8</th>\n",
       "      <td>{'learning_rate': 0.5, 'n_estimators': 150}</td>\n",
       "      <td>0.834120</td>\n",
       "      <td>9</td>\n",
       "    </tr>\n",
       "  </tbody>\n",
       "</table>\n",
       "</div>"
      ],
      "text/plain": [
       "                                         params  mean_test_score  \\\n",
       "0   {'learning_rate': 0.01, 'n_estimators': 50}         0.861266   \n",
       "1  {'learning_rate': 0.01, 'n_estimators': 100}         0.857555   \n",
       "2  {'learning_rate': 0.01, 'n_estimators': 150}         0.858022   \n",
       "3    {'learning_rate': 0.1, 'n_estimators': 50}         0.858724   \n",
       "4   {'learning_rate': 0.1, 'n_estimators': 100}         0.857950   \n",
       "5   {'learning_rate': 0.1, 'n_estimators': 150}         0.859839   \n",
       "6    {'learning_rate': 0.5, 'n_estimators': 50}         0.841139   \n",
       "7   {'learning_rate': 0.5, 'n_estimators': 100}         0.837380   \n",
       "8   {'learning_rate': 0.5, 'n_estimators': 150}         0.834120   \n",
       "\n",
       "   rank_test_score  \n",
       "0                1  \n",
       "1                6  \n",
       "2                4  \n",
       "3                3  \n",
       "4                5  \n",
       "5                2  \n",
       "6                7  \n",
       "7                8  \n",
       "8                9  "
      ]
     },
     "execution_count": 30,
     "metadata": {},
     "output_type": "execute_result"
    }
   ],
   "source": [
    "pd.DataFrame(gridXGB.cv_results_)[['params','mean_test_score','rank_test_score']]"
   ]
  },
  {
   "cell_type": "code",
   "execution_count": 31,
   "metadata": {
    "ExecuteTime": {
     "end_time": "2022-03-10T02:01:59.225601Z",
     "start_time": "2022-03-10T02:01:59.083326Z"
    },
    "hidden": true
   },
   "outputs": [
    {
     "name": "stderr",
     "output_type": "stream",
     "text": [
      "C:\\Users\\jadha\\anaconda3\\lib\\site-packages\\xgboost\\sklearn.py:1224: UserWarning: The use of label encoder in XGBClassifier is deprecated and will be removed in a future release. To remove this warning, do the following: 1) Pass option use_label_encoder=False when constructing XGBClassifier object; and 2) Encode your labels (y) as integers starting with 0, i.e. 0, 1, 2, ..., [num_class - 1].\n",
      "  warnings.warn(label_encoder_deprecation_msg, UserWarning)\n"
     ]
    }
   ],
   "source": [
    "model.fit(X_train,y_train)\n",
    "y_pred= model.predict(X_val)"
   ]
  },
  {
   "cell_type": "code",
   "execution_count": 32,
   "metadata": {
    "ExecuteTime": {
     "end_time": "2022-03-10T02:01:59.241558Z",
     "start_time": "2022-03-10T02:01:59.226599Z"
    },
    "hidden": true
   },
   "outputs": [],
   "source": [
    "# Evaluatoin of Model\n",
    "from sklearn.metrics import confusion_matrix,classification_report,roc_auc_score, plot_roc_curve,RocCurveDisplay       "
   ]
  },
  {
   "cell_type": "code",
   "execution_count": 33,
   "metadata": {
    "ExecuteTime": {
     "end_time": "2022-03-10T02:01:59.256775Z",
     "start_time": "2022-03-10T02:01:59.242556Z"
    },
    "hidden": true
   },
   "outputs": [
    {
     "name": "stdout",
     "output_type": "stream",
     "text": [
      "              precision    recall  f1-score   support\n",
      "\n",
      "           0       0.88      0.91      0.90       151\n",
      "           1       0.69      0.63      0.66        49\n",
      "\n",
      "    accuracy                           0.84       200\n",
      "   macro avg       0.79      0.77      0.78       200\n",
      "weighted avg       0.84      0.84      0.84       200\n",
      "\n",
      "[[137  14]\n",
      " [ 18  31]]\n",
      "0.7699689147182052\n"
     ]
    }
   ],
   "source": [
    "#XGB evaluatoin\n",
    "print(classification_report(y_val,y_pred))\n",
    "print(confusion_matrix(y_val,y_pred))\n",
    "print(roc_auc_score(y_val,y_pred))"
   ]
  },
  {
   "cell_type": "code",
   "execution_count": 34,
   "metadata": {
    "ExecuteTime": {
     "end_time": "2022-03-10T02:01:59.461349Z",
     "start_time": "2022-03-10T02:01:59.258514Z"
    },
    "hidden": true
   },
   "outputs": [
    {
     "data": {
      "text/plain": [
       "<sklearn.metrics._plot.roc_curve.RocCurveDisplay at 0x1d191231c40>"
      ]
     },
     "execution_count": 34,
     "metadata": {},
     "output_type": "execute_result"
    },
    {
     "data": {
      "image/png": "[encoded data removed]",
      "text/plain": [
       "<Figure size 460.8x403.2 with 1 Axes>"
      ]
     },
     "metadata": {},
     "output_type": "display_data"
    }
   ],
   "source": [
    "#plot roc_curve\n",
    "RocCurveDisplay.from_predictions(y_val,y_pred)\n",
    "# RocCurveDisplay.from_estimator(model,X_val,y_val)"
   ]
  },
  {
   "cell_type": "markdown",
   "metadata": {
    "ExecuteTime": {
     "end_time": "2022-03-09T13:46:47.495877Z",
     "start_time": "2022-03-09T13:46:47.488864Z"
    },
    "hidden": true
   },
   "source": [
    "- Threshold of 0.35 gives better Recall without much drop in Precesion"
   ]
  },
  {
   "cell_type": "code",
   "execution_count": 35,
   "metadata": {
    "ExecuteTime": {
     "end_time": "2022-03-10T02:01:59.697342Z",
     "start_time": "2022-03-10T02:01:59.463679Z"
    },
    "hidden": true
   },
   "outputs": [
    {
     "name": "stdout",
     "output_type": "stream",
     "text": [
      "              precision    recall  f1-score   support\n",
      "\n",
      "           0       0.98      0.78      0.87       151\n",
      "           1       0.59      0.96      0.73        49\n",
      "\n",
      "    accuracy                           0.82       200\n",
      "   macro avg       0.79      0.87      0.80       200\n",
      "weighted avg       0.89      0.82      0.84       200\n",
      "\n",
      "[[118  33]\n",
      " [  2  47]]\n",
      "0.8703203135558859\n"
     ]
    },
    {
     "data": {
      "image/png": "[encoded data removed]",
      "text/plain": [
       "<Figure size 460.8x403.2 with 1 Axes>"
      ]
     },
     "metadata": {},
     "output_type": "display_data"
    }
   ],
   "source": [
    "thresholdAdjust(model,0.35,X_val,y_val)"
   ]
  },
  {
   "cell_type": "code",
   "execution_count": 36,
   "metadata": {
    "ExecuteTime": {
     "end_time": "2022-03-10T02:01:59.919746Z",
     "start_time": "2022-03-10T02:01:59.699618Z"
    },
    "hidden": true
   },
   "outputs": [
    {
     "name": "stdout",
     "output_type": "stream",
     "text": [
      "              precision    recall  f1-score   support\n",
      "\n",
      "           0       0.97      0.78      0.86       602\n",
      "           1       0.58      0.93      0.71       198\n",
      "\n",
      "    accuracy                           0.81       800\n",
      "   macro avg       0.77      0.85      0.79       800\n",
      "weighted avg       0.87      0.81      0.83       800\n",
      "\n",
      "[[468 134]\n",
      " [ 14 184]]\n",
      "0.8533507835833417\n"
     ]
    },
    {
     "data": {
      "image/png": "[encoded data removed]",
      "text/plain": [
       "<Figure size 460.8x403.2 with 1 Axes>"
      ]
     },
     "metadata": {},
     "output_type": "display_data"
    }
   ],
   "source": [
    "# changing thresod and check result- for train data\n",
    "thresholdAdjust(model,0.35,X_train,y_train)\n"
   ]
  },
  {
   "cell_type": "markdown",
   "metadata": {
    "hidden": true
   },
   "source": [
    "- over train & val dataset model gives fairly accurate & consistant results"
   ]
  },
  {
   "cell_type": "markdown",
   "metadata": {
    "heading_collapsed": true
   },
   "source": [
    "# Feature selection to reduce dimenstionality of Dataset"
   ]
  },
  {
   "cell_type": "markdown",
   "metadata": {
    "heading_collapsed": true,
    "hidden": true
   },
   "source": [
    "### initial check"
   ]
  },
  {
   "cell_type": "code",
   "execution_count": 37,
   "metadata": {
    "ExecuteTime": {
     "end_time": "2022-03-10T02:01:59.935031Z",
     "start_time": "2022-03-10T02:01:59.921754Z"
    },
    "hidden": true
   },
   "outputs": [],
   "source": [
    "dfFeature = data.copy()"
   ]
  },
  {
   "cell_type": "code",
   "execution_count": 38,
   "metadata": {
    "ExecuteTime": {
     "end_time": "2022-03-10T02:01:59.950909Z",
     "start_time": "2022-03-10T02:01:59.936863Z"
    },
    "hidden": true
   },
   "outputs": [],
   "source": [
    "dfFeature = dfFeature.replace('?',np.NaN)"
   ]
  },
  {
   "cell_type": "code",
   "execution_count": 39,
   "metadata": {
    "ExecuteTime": {
     "end_time": "2022-03-10T02:01:59.966910Z",
     "start_time": "2022-03-10T02:01:59.952777Z"
    },
    "hidden": true
   },
   "outputs": [
    {
     "name": "stdout",
     "output_type": "stream",
     "text": [
      "<class 'pandas.core.frame.DataFrame'>\n",
      "RangeIndex: 1000 entries, 0 to 999\n",
      "Data columns (total 39 columns):\n",
      " #   Column                       Non-Null Count  Dtype  \n",
      "---  ------                       --------------  -----  \n",
      " 0   months_as_customer           1000 non-null   int64  \n",
      " 1   age                          1000 non-null   int64  \n",
      " 2   policy_number                1000 non-null   int64  \n",
      " 3   policy_bind_date             1000 non-null   object \n",
      " 4   policy_state                 1000 non-null   object \n",
      " 5   policy_csl                   1000 non-null   object \n",
      " 6   policy_deductable            1000 non-null   int64  \n",
      " 7   policy_annual_premium        1000 non-null   float64\n",
      " 8   umbrella_limit               1000 non-null   int64  \n",
      " 9   insured_zip                  1000 non-null   int64  \n",
      " 10  insured_sex                  1000 non-null   object \n",
      " 11  insured_education_level      1000 non-null   object \n",
      " 12  insured_occupation           1000 non-null   object \n",
      " 13  insured_hobbies              1000 non-null   object \n",
      " 14  insured_relationship         1000 non-null   object \n",
      " 15  capital_gains                1000 non-null   int64  \n",
      " 16  capital_loss                 1000 non-null   int64  \n",
      " 17  incident_date                1000 non-null   object \n",
      " 18  incident_type                1000 non-null   object \n",
      " 19  collision_type               822 non-null    object \n",
      " 20  incident_severity            1000 non-null   object \n",
      " 21  authorities_contacted        1000 non-null   object \n",
      " 22  incident_state               1000 non-null   object \n",
      " 23  incident_city                1000 non-null   object \n",
      " 24  incident_location            1000 non-null   object \n",
      " 25  incident_hour_of_the_day     1000 non-null   int64  \n",
      " 26  number_of_vehicles_involved  1000 non-null   int64  \n",
      " 27  property_damage              640 non-null    object \n",
      " 28  bodily_injuries              1000 non-null   int64  \n",
      " 29  witnesses                    1000 non-null   int64  \n",
      " 30  police_report_available      657 non-null    object \n",
      " 31  total_claim_amount           1000 non-null   int64  \n",
      " 32  injury_claim                 1000 non-null   int64  \n",
      " 33  property_claim               1000 non-null   int64  \n",
      " 34  vehicle_claim                1000 non-null   int64  \n",
      " 35  auto_make                    1000 non-null   object \n",
      " 36  auto_model                   1000 non-null   object \n",
      " 37  auto_year                    1000 non-null   int64  \n",
      " 38  fraud_reported               1000 non-null   object \n",
      "dtypes: float64(1), int64(17), object(21)\n",
      "memory usage: 304.8+ KB\n"
     ]
    }
   ],
   "source": [
    "dfFeature.info()"
   ]
  },
  {
   "cell_type": "code",
   "execution_count": 40,
   "metadata": {
    "ExecuteTime": {
     "end_time": "2022-03-10T02:01:59.998711Z",
     "start_time": "2022-03-10T02:01:59.969730Z"
    },
    "hidden": true
   },
   "outputs": [
    {
     "name": "stdout",
     "output_type": "stream",
     "text": [
      "collision_type\n",
      "property_damage\n",
      "police_report_available\n"
     ]
    }
   ],
   "source": [
    "# handle missing values\n",
    "\n",
    "for col in dfFeature:\n",
    "    if dfFeature[col].isna().sum()>0:\n",
    "        print(col)\n",
    "        dfFeature[col]= imputer.fit_transform(dfFeature[[col]])\n",
    "# dfFeature_impute = pd.DataFrame(imputer.fit_transform(dfFeature),columns=dfFeature.columns)\n",
    "# dfFeature_impute.isna().sum()"
   ]
  },
  {
   "cell_type": "code",
   "execution_count": 41,
   "metadata": {
    "ExecuteTime": {
     "end_time": "2022-03-10T02:02:00.029644Z",
     "start_time": "2022-03-10T02:02:00.000648Z"
    },
    "hidden": true
   },
   "outputs": [
    {
     "name": "stdout",
     "output_type": "stream",
     "text": [
      "<class 'pandas.core.frame.DataFrame'>\n",
      "RangeIndex: 1000 entries, 0 to 999\n",
      "Data columns (total 39 columns):\n",
      " #   Column                       Non-Null Count  Dtype  \n",
      "---  ------                       --------------  -----  \n",
      " 0   months_as_customer           1000 non-null   int64  \n",
      " 1   age                          1000 non-null   int64  \n",
      " 2   policy_number                1000 non-null   int64  \n",
      " 3   policy_bind_date             1000 non-null   object \n",
      " 4   policy_state                 1000 non-null   object \n",
      " 5   policy_csl                   1000 non-null   object \n",
      " 6   policy_deductable            1000 non-null   int64  \n",
      " 7   policy_annual_premium        1000 non-null   float64\n",
      " 8   umbrella_limit               1000 non-null   int64  \n",
      " 9   insured_zip                  1000 non-null   int64  \n",
      " 10  insured_sex                  1000 non-null   object \n",
      " 11  insured_education_level      1000 non-null   object \n",
      " 12  insured_occupation           1000 non-null   object \n",
      " 13  insured_hobbies              1000 non-null   object \n",
      " 14  insured_relationship         1000 non-null   object \n",
      " 15  capital_gains                1000 non-null   int64  \n",
      " 16  capital_loss                 1000 non-null   int64  \n",
      " 17  incident_date                1000 non-null   object \n",
      " 18  incident_type                1000 non-null   object \n",
      " 19  collision_type               1000 non-null   object \n",
      " 20  incident_severity            1000 non-null   object \n",
      " 21  authorities_contacted        1000 non-null   object \n",
      " 22  incident_state               1000 non-null   object \n",
      " 23  incident_city                1000 non-null   object \n",
      " 24  incident_location            1000 non-null   object \n",
      " 25  incident_hour_of_the_day     1000 non-null   int64  \n",
      " 26  number_of_vehicles_involved  1000 non-null   int64  \n",
      " 27  property_damage              1000 non-null   object \n",
      " 28  bodily_injuries              1000 non-null   int64  \n",
      " 29  witnesses                    1000 non-null   int64  \n",
      " 30  police_report_available      1000 non-null   object \n",
      " 31  total_claim_amount           1000 non-null   int64  \n",
      " 32  injury_claim                 1000 non-null   int64  \n",
      " 33  property_claim               1000 non-null   int64  \n",
      " 34  vehicle_claim                1000 non-null   int64  \n",
      " 35  auto_make                    1000 non-null   object \n",
      " 36  auto_model                   1000 non-null   object \n",
      " 37  auto_year                    1000 non-null   int64  \n",
      " 38  fraud_reported               1000 non-null   object \n",
      "dtypes: float64(1), int64(17), object(21)\n",
      "memory usage: 304.8+ KB\n"
     ]
    }
   ],
   "source": [
    "dfFeature.info()"
   ]
  },
  {
   "cell_type": "code",
   "execution_count": 42,
   "metadata": {
    "ExecuteTime": {
     "end_time": "2022-03-10T02:02:00.045568Z",
     "start_time": "2022-03-10T02:02:00.031629Z"
    },
    "hidden": true
   },
   "outputs": [],
   "source": [
    "num_df = dfFeature.select_dtypes(exclude='O')\n",
    "cat_df = dfFeature.select_dtypes(include = 'O')"
   ]
  },
  {
   "cell_type": "markdown",
   "metadata": {
    "heading_collapsed": true,
    "hidden": true
   },
   "source": [
    "### check relationship of cat var with target"
   ]
  },
  {
   "cell_type": "code",
   "execution_count": 43,
   "metadata": {
    "ExecuteTime": {
     "end_time": "2022-03-10T02:02:00.061608Z",
     "start_time": "2022-03-10T02:02:00.050581Z"
    },
    "hidden": true
   },
   "outputs": [],
   "source": [
    "targetF = dfFeature['fraud_reported']\n",
    "cat_df = cat_df.drop('fraud_reported',axis=1)"
   ]
  },
  {
   "cell_type": "code",
   "execution_count": 44,
   "metadata": {
    "ExecuteTime": {
     "end_time": "2022-03-10T02:02:00.077481Z",
     "start_time": "2022-03-10T02:02:00.064515Z"
    },
    "hidden": true
   },
   "outputs": [],
   "source": [
    "targetF = targetF.map({'Y':1,'N':0})"
   ]
  },
  {
   "cell_type": "code",
   "execution_count": 45,
   "metadata": {
    "ExecuteTime": {
     "end_time": "2022-03-10T02:02:00.092453Z",
     "start_time": "2022-03-10T02:02:00.078479Z"
    },
    "hidden": true
   },
   "outputs": [],
   "source": [
    "# using chi2 test for relation cecking\n",
    "from sklearn.feature_selection import chi2\n",
    "from scipy.stats import chi2_contingency"
   ]
  },
  {
   "cell_type": "code",
   "execution_count": 46,
   "metadata": {
    "ExecuteTime": {
     "end_time": "2022-03-10T02:02:00.108398Z",
     "start_time": "2022-03-10T02:02:00.093439Z"
    },
    "hidden": true
   },
   "outputs": [],
   "source": [
    "# function to for chi2 test\n",
    "def chi2Parms(x,y):\n",
    "    crsTab = pd.crosstab(x,y)\n",
    "    chiRes = chi2_contingency(crsTab)\n",
    "    chi2Stat = chiRes[0]\n",
    "    pValue = chiRes[1]\n",
    "    return chi2Stat,pValue\n",
    "\n",
    "def chi2Test(df,y):\n",
    "    catSelected = []\n",
    "    chi2results = pd.DataFrame(columns=['feature','chi2Stat','pValue'])\n",
    "    for col in df.columns:\n",
    "        chi2Stat,pValue = chi2Parms(df[col],y)\n",
    "        colRes = pd.DataFrame([[col,chi2Stat,pValue]], columns=['feature','chi2Stat','pValue'])\n",
    "        chi2results = pd.concat([chi2results,colRes],axis=0, ignore_index=True)\n",
    "        if pValue < 0.05:\n",
    "            catSelected.append(col)\n",
    "    return catSelected, chi2results\n",
    "        "
   ]
  },
  {
   "cell_type": "code",
   "execution_count": 47,
   "metadata": {
    "ExecuteTime": {
     "end_time": "2022-03-10T02:02:00.408624Z",
     "start_time": "2022-03-10T02:02:00.109395Z"
    },
    "hidden": true,
    "scrolled": false
   },
   "outputs": [
    {
     "name": "stdout",
     "output_type": "stream",
     "text": [
      "['insured_hobbies', 'incident_type', 'incident_severity', 'authorities_contacted', 'incident_state']\n"
     ]
    },
    {
     "data": {
      "text/html": [
       "<div>\n",
       "<style scoped>\n",
       "    .dataframe tbody tr th:only-of-type {\n",
       "        vertical-align: middle;\n",
       "    }\n",
       "\n",
       "    .dataframe tbody tr th {\n",
       "        vertical-align: top;\n",
       "    }\n",
       "\n",
       "    .dataframe thead th {\n",
       "        text-align: right;\n",
       "    }\n",
       "</style>\n",
       "<table border=\"1\" class=\"dataframe\">\n",
       "  <thead>\n",
       "    <tr style=\"text-align: right;\">\n",
       "      <th></th>\n",
       "      <th>feature</th>\n",
       "      <th>chi2Stat</th>\n",
       "      <th>pValue</th>\n",
       "    </tr>\n",
       "  </thead>\n",
       "  <tbody>\n",
       "    <tr>\n",
       "      <th>0</th>\n",
       "      <td>policy_bind_date</td>\n",
       "      <td>969.532576</td>\n",
       "      <td>3.226353e-01</td>\n",
       "    </tr>\n",
       "    <tr>\n",
       "      <th>1</th>\n",
       "      <td>policy_state</td>\n",
       "      <td>1.022879</td>\n",
       "      <td>5.996317e-01</td>\n",
       "    </tr>\n",
       "    <tr>\n",
       "      <th>2</th>\n",
       "      <td>policy_csl</td>\n",
       "      <td>2.136999</td>\n",
       "      <td>3.435237e-01</td>\n",
       "    </tr>\n",
       "    <tr>\n",
       "      <th>3</th>\n",
       "      <td>insured_sex</td>\n",
       "      <td>0.814982</td>\n",
       "      <td>3.666514e-01</td>\n",
       "    </tr>\n",
       "    <tr>\n",
       "      <th>4</th>\n",
       "      <td>insured_education_level</td>\n",
       "      <td>1.688227</td>\n",
       "      <td>9.460265e-01</td>\n",
       "    </tr>\n",
       "    <tr>\n",
       "      <th>5</th>\n",
       "      <td>insured_occupation</td>\n",
       "      <td>17.659340</td>\n",
       "      <td>1.708876e-01</td>\n",
       "    </tr>\n",
       "    <tr>\n",
       "      <th>6</th>\n",
       "      <td>insured_hobbies</td>\n",
       "      <td>162.315399</td>\n",
       "      <td>8.989147e-25</td>\n",
       "    </tr>\n",
       "    <tr>\n",
       "      <th>7</th>\n",
       "      <td>insured_relationship</td>\n",
       "      <td>5.389248</td>\n",
       "      <td>3.702431e-01</td>\n",
       "    </tr>\n",
       "    <tr>\n",
       "      <th>8</th>\n",
       "      <td>incident_date</td>\n",
       "      <td>62.747756</td>\n",
       "      <td>3.449221e-01</td>\n",
       "    </tr>\n",
       "    <tr>\n",
       "      <th>9</th>\n",
       "      <td>incident_type</td>\n",
       "      <td>29.131540</td>\n",
       "      <td>2.101334e-06</td>\n",
       "    </tr>\n",
       "    <tr>\n",
       "      <th>10</th>\n",
       "      <td>collision_type</td>\n",
       "      <td>2.126642</td>\n",
       "      <td>3.453072e-01</td>\n",
       "    </tr>\n",
       "    <tr>\n",
       "      <th>11</th>\n",
       "      <td>incident_severity</td>\n",
       "      <td>264.237350</td>\n",
       "      <td>5.447034e-57</td>\n",
       "    </tr>\n",
       "    <tr>\n",
       "      <th>12</th>\n",
       "      <td>authorities_contacted</td>\n",
       "      <td>26.319757</td>\n",
       "      <td>2.727701e-05</td>\n",
       "    </tr>\n",
       "    <tr>\n",
       "      <th>13</th>\n",
       "      <td>incident_state</td>\n",
       "      <td>16.129184</td>\n",
       "      <td>1.307713e-02</td>\n",
       "    </tr>\n",
       "    <tr>\n",
       "      <th>14</th>\n",
       "      <td>incident_city</td>\n",
       "      <td>2.610518</td>\n",
       "      <td>8.558997e-01</td>\n",
       "    </tr>\n",
       "    <tr>\n",
       "      <th>15</th>\n",
       "      <td>incident_location</td>\n",
       "      <td>1000.000000</td>\n",
       "      <td>4.851315e-01</td>\n",
       "    </tr>\n",
       "    <tr>\n",
       "      <th>16</th>\n",
       "      <td>property_damage</td>\n",
       "      <td>0.215396</td>\n",
       "      <td>6.425708e-01</td>\n",
       "    </tr>\n",
       "    <tr>\n",
       "      <th>17</th>\n",
       "      <td>police_report_available</td>\n",
       "      <td>0.638575</td>\n",
       "      <td>4.242273e-01</td>\n",
       "    </tr>\n",
       "    <tr>\n",
       "      <th>18</th>\n",
       "      <td>auto_make</td>\n",
       "      <td>13.775924</td>\n",
       "      <td>3.898117e-01</td>\n",
       "    </tr>\n",
       "    <tr>\n",
       "      <th>19</th>\n",
       "      <td>auto_model</td>\n",
       "      <td>46.658170</td>\n",
       "      <td>1.582646e-01</td>\n",
       "    </tr>\n",
       "  </tbody>\n",
       "</table>\n",
       "</div>"
      ],
      "text/plain": [
       "                    feature     chi2Stat        pValue\n",
       "0          policy_bind_date   969.532576  3.226353e-01\n",
       "1              policy_state     1.022879  5.996317e-01\n",
       "2                policy_csl     2.136999  3.435237e-01\n",
       "3               insured_sex     0.814982  3.666514e-01\n",
       "4   insured_education_level     1.688227  9.460265e-01\n",
       "5        insured_occupation    17.659340  1.708876e-01\n",
       "6           insured_hobbies   162.315399  8.989147e-25\n",
       "7      insured_relationship     5.389248  3.702431e-01\n",
       "8             incident_date    62.747756  3.449221e-01\n",
       "9             incident_type    29.131540  2.101334e-06\n",
       "10           collision_type     2.126642  3.453072e-01\n",
       "11        incident_severity   264.237350  5.447034e-57\n",
       "12    authorities_contacted    26.319757  2.727701e-05\n",
       "13           incident_state    16.129184  1.307713e-02\n",
       "14            incident_city     2.610518  8.558997e-01\n",
       "15        incident_location  1000.000000  4.851315e-01\n",
       "16          property_damage     0.215396  6.425708e-01\n",
       "17  police_report_available     0.638575  4.242273e-01\n",
       "18                auto_make    13.775924  3.898117e-01\n",
       "19               auto_model    46.658170  1.582646e-01"
      ]
     },
     "execution_count": 47,
     "metadata": {},
     "output_type": "execute_result"
    }
   ],
   "source": [
    "# chi2 for cat features\n",
    "catSelected, chi2Results = chi2Test(cat_df,targetF)\n",
    "print(catSelected)\n",
    "chi2Results"
   ]
  },
  {
   "cell_type": "markdown",
   "metadata": {
    "hidden": true
   },
   "source": [
    "- Clearly we can observe that incident severity help to classify fraud claims"
   ]
  },
  {
   "cell_type": "code",
   "execution_count": 48,
   "metadata": {
    "ExecuteTime": {
     "end_time": "2022-03-10T02:02:01.983691Z",
     "start_time": "2022-03-10T02:02:00.410619Z"
    },
    "hidden": true,
    "scrolled": true
   },
   "outputs": [
    {
     "data": {
      "image/png": "[encoded data removed]",
      "text/plain": [
       "<Figure size 1440x1440 with 8 Axes>"
      ]
     },
     "metadata": {},
     "output_type": "display_data"
    }
   ],
   "source": [
    "# subplots to confirm chi2 test results by graphs\n",
    "fig, axs = plt.subplots(4,2, figsize=(20,20))\n",
    "for c,col in enumerate(catSelected):\n",
    "    a = sns.countplot(data=cat_df, x=cat_df[col], hue=targetF, ax=axs.flat[c])\n",
    "\n",
    "# to hide unused plot in subplots\n",
    "for i in range(len(catSelected)-len(axs.flat),0):\n",
    "    axs.flat[i].axis('off')   "
   ]
  },
  {
   "cell_type": "markdown",
   "metadata": {
    "hidden": true
   },
   "source": [
    "- its quite evdent that feature selected fro chi2 test, helps in classification fraud claims"
   ]
  },
  {
   "cell_type": "markdown",
   "metadata": {
    "ExecuteTime": {
     "end_time": "2022-03-09T16:33:59.658356Z",
     "start_time": "2022-03-09T16:33:59.645746Z"
    },
    "heading_collapsed": true,
    "hidden": true
   },
   "source": [
    "### check numerical features for Relation"
   ]
  },
  {
   "cell_type": "code",
   "execution_count": 49,
   "metadata": {
    "ExecuteTime": {
     "end_time": "2022-03-10T02:02:05.273499Z",
     "start_time": "2022-03-10T02:02:01.985685Z"
    },
    "hidden": true
   },
   "outputs": [
    {
     "data": {
      "text/plain": [
       "<AxesSubplot:>"
      ]
     },
     "execution_count": 49,
     "metadata": {},
     "output_type": "execute_result"
    },
    {
     "data": {
      "image/png": "[encoded data removed]",
      "text/plain": [
       "<Figure size 1440x720 with 2 Axes>"
      ]
     },
     "metadata": {},
     "output_type": "display_data"
    }
   ],
   "source": [
    "plt.figure(figsize=(20,10))\n",
    "sns.heatmap(num_df.corr(), annot=True,)"
   ]
  },
  {
   "cell_type": "markdown",
   "metadata": {
    "hidden": true
   },
   "source": [
    "-age & month_as_customer, total_claim_amount&vehicle_claim are highly coreleted with each other , so droping one of the pairs"
   ]
  },
  {
   "cell_type": "code",
   "execution_count": 50,
   "metadata": {
    "ExecuteTime": {
     "end_time": "2022-03-10T02:02:05.289222Z",
     "start_time": "2022-03-10T02:02:05.275495Z"
    },
    "hidden": true
   },
   "outputs": [],
   "source": [
    "num_df = num_df.drop([\"age\",\"total_claim_amount\",\"vehicle_claim\"], axis=1)"
   ]
  },
  {
   "cell_type": "code",
   "execution_count": 51,
   "metadata": {
    "ExecuteTime": {
     "end_time": "2022-03-10T02:02:05.305181Z",
     "start_time": "2022-03-10T02:02:05.291218Z"
    },
    "hidden": true
   },
   "outputs": [
    {
     "data": {
      "text/plain": [
       "months_as_customer              391\n",
       "policy_number                  1000\n",
       "policy_deductable                 3\n",
       "policy_annual_premium           991\n",
       "umbrella_limit                   11\n",
       "insured_zip                     995\n",
       "capital_gains                   338\n",
       "capital_loss                    354\n",
       "incident_hour_of_the_day         24\n",
       "number_of_vehicles_involved       4\n",
       "bodily_injuries                   3\n",
       "witnesses                         4\n",
       "injury_claim                    638\n",
       "property_claim                  626\n",
       "auto_year                        21\n",
       "dtype: int64"
      ]
     },
     "execution_count": 51,
     "metadata": {},
     "output_type": "execute_result"
    }
   ],
   "source": [
    "num_df.nunique()"
   ]
  },
  {
   "cell_type": "code",
   "execution_count": 52,
   "metadata": {
    "ExecuteTime": {
     "end_time": "2022-03-10T02:02:05.320316Z",
     "start_time": "2022-03-10T02:02:05.307176Z"
    },
    "hidden": true
   },
   "outputs": [],
   "source": [
    "# identify descrete features\n",
    "desc_df = data[num_df.nunique()[num_df.nunique()<30].index]\n",
    "non_des_df = num_df.drop(desc_df.columns, axis=1)"
   ]
  },
  {
   "cell_type": "code",
   "execution_count": 53,
   "metadata": {
    "ExecuteTime": {
     "end_time": "2022-03-10T02:02:05.336204Z",
     "start_time": "2022-03-10T02:02:05.322294Z"
    },
    "hidden": true
   },
   "outputs": [
    {
     "data": {
      "text/html": [
       "<div>\n",
       "<style scoped>\n",
       "    .dataframe tbody tr th:only-of-type {\n",
       "        vertical-align: middle;\n",
       "    }\n",
       "\n",
       "    .dataframe tbody tr th {\n",
       "        vertical-align: top;\n",
       "    }\n",
       "\n",
       "    .dataframe thead th {\n",
       "        text-align: right;\n",
       "    }\n",
       "</style>\n",
       "<table border=\"1\" class=\"dataframe\">\n",
       "  <thead>\n",
       "    <tr style=\"text-align: right;\">\n",
       "      <th></th>\n",
       "      <th>months_as_customer</th>\n",
       "      <th>policy_number</th>\n",
       "      <th>policy_annual_premium</th>\n",
       "      <th>insured_zip</th>\n",
       "      <th>capital_gains</th>\n",
       "      <th>capital_loss</th>\n",
       "      <th>injury_claim</th>\n",
       "      <th>property_claim</th>\n",
       "    </tr>\n",
       "  </thead>\n",
       "  <tbody>\n",
       "    <tr>\n",
       "      <th>0</th>\n",
       "      <td>328</td>\n",
       "      <td>521585</td>\n",
       "      <td>1406.91</td>\n",
       "      <td>466132</td>\n",
       "      <td>53300</td>\n",
       "      <td>0</td>\n",
       "      <td>6510</td>\n",
       "      <td>13020</td>\n",
       "    </tr>\n",
       "    <tr>\n",
       "      <th>1</th>\n",
       "      <td>228</td>\n",
       "      <td>342868</td>\n",
       "      <td>1197.22</td>\n",
       "      <td>468176</td>\n",
       "      <td>0</td>\n",
       "      <td>0</td>\n",
       "      <td>780</td>\n",
       "      <td>780</td>\n",
       "    </tr>\n",
       "    <tr>\n",
       "      <th>2</th>\n",
       "      <td>134</td>\n",
       "      <td>687698</td>\n",
       "      <td>1413.14</td>\n",
       "      <td>430632</td>\n",
       "      <td>35100</td>\n",
       "      <td>0</td>\n",
       "      <td>7700</td>\n",
       "      <td>3850</td>\n",
       "    </tr>\n",
       "    <tr>\n",
       "      <th>3</th>\n",
       "      <td>256</td>\n",
       "      <td>227811</td>\n",
       "      <td>1415.74</td>\n",
       "      <td>608117</td>\n",
       "      <td>48900</td>\n",
       "      <td>-62400</td>\n",
       "      <td>6340</td>\n",
       "      <td>6340</td>\n",
       "    </tr>\n",
       "    <tr>\n",
       "      <th>4</th>\n",
       "      <td>228</td>\n",
       "      <td>367455</td>\n",
       "      <td>1583.91</td>\n",
       "      <td>610706</td>\n",
       "      <td>66000</td>\n",
       "      <td>-46000</td>\n",
       "      <td>1300</td>\n",
       "      <td>650</td>\n",
       "    </tr>\n",
       "  </tbody>\n",
       "</table>\n",
       "</div>"
      ],
      "text/plain": [
       "   months_as_customer  policy_number  policy_annual_premium  insured_zip  \\\n",
       "0                 328         521585                1406.91       466132   \n",
       "1                 228         342868                1197.22       468176   \n",
       "2                 134         687698                1413.14       430632   \n",
       "3                 256         227811                1415.74       608117   \n",
       "4                 228         367455                1583.91       610706   \n",
       "\n",
       "   capital_gains  capital_loss  injury_claim  property_claim  \n",
       "0          53300             0          6510           13020  \n",
       "1              0             0           780             780  \n",
       "2          35100             0          7700            3850  \n",
       "3          48900        -62400          6340            6340  \n",
       "4          66000        -46000          1300             650  "
      ]
     },
     "execution_count": 53,
     "metadata": {},
     "output_type": "execute_result"
    }
   ],
   "source": [
    "non_des_df.head()"
   ]
  },
  {
   "cell_type": "code",
   "execution_count": 54,
   "metadata": {
    "ExecuteTime": {
     "end_time": "2022-03-10T02:02:05.870485Z",
     "start_time": "2022-03-10T02:02:05.338204Z"
    },
    "hidden": true
   },
   "outputs": [
    {
     "name": "stdout",
     "output_type": "stream",
     "text": [
      "Optimization terminated successfully.\n",
      "         Current function value: 0.551673\n",
      "         Iterations 5\n"
     ]
    },
    {
     "data": {
      "text/html": [
       "<table class=\"simpletable\">\n",
       "<caption>Logit Regression Results</caption>\n",
       "<tr>\n",
       "  <th>Dep. Variable:</th>    <td>fraud_reported</td>  <th>  No. Observations:  </th>  <td>  1000</td> \n",
       "</tr>\n",
       "<tr>\n",
       "  <th>Model:</th>                 <td>Logit</td>      <th>  Df Residuals:      </th>  <td>   992</td> \n",
       "</tr>\n",
       "<tr>\n",
       "  <th>Method:</th>                 <td>MLE</td>       <th>  Df Model:          </th>  <td>     7</td> \n",
       "</tr>\n",
       "<tr>\n",
       "  <th>Date:</th>            <td>Thu, 10 Mar 2022</td> <th>  Pseudo R-squ.:     </th>  <td>0.01313</td>\n",
       "</tr>\n",
       "<tr>\n",
       "  <th>Time:</th>                <td>07:32:05</td>     <th>  Log-Likelihood:    </th> <td> -551.67</td>\n",
       "</tr>\n",
       "<tr>\n",
       "  <th>converged:</th>             <td>True</td>       <th>  LL-Null:           </th> <td> -559.02</td>\n",
       "</tr>\n",
       "<tr>\n",
       "  <th>Covariance Type:</th>     <td>nonrobust</td>    <th>  LLR p-value:       </th>  <td>0.04025</td>\n",
       "</tr>\n",
       "</table>\n",
       "<table class=\"simpletable\">\n",
       "<tr>\n",
       "            <td></td>               <th>coef</th>     <th>std err</th>      <th>z</th>      <th>P>|z|</th>  <th>[0.025</th>    <th>0.975]</th>  \n",
       "</tr>\n",
       "<tr>\n",
       "  <th>months_as_customer</th>    <td> 8.799e-05</td> <td>    0.001</td> <td>    0.139</td> <td> 0.889</td> <td>   -0.001</td> <td>    0.001</td>\n",
       "</tr>\n",
       "<tr>\n",
       "  <th>policy_number</th>         <td>-4.115e-07</td> <td> 2.84e-07</td> <td>   -1.449</td> <td> 0.147</td> <td>-9.68e-07</td> <td> 1.45e-07</td>\n",
       "</tr>\n",
       "<tr>\n",
       "  <th>policy_annual_premium</th> <td>   -0.0005</td> <td>    0.000</td> <td>   -2.039</td> <td> 0.041</td> <td>   -0.001</td> <td>-2.05e-05</td>\n",
       "</tr>\n",
       "<tr>\n",
       "  <th>insured_zip</th>           <td>  -1.3e-06</td> <td> 7.05e-07</td> <td>   -1.845</td> <td> 0.065</td> <td>-2.68e-06</td> <td> 8.12e-08</td>\n",
       "</tr>\n",
       "<tr>\n",
       "  <th>capital_gains</th>         <td>-2.313e-06</td> <td> 2.67e-06</td> <td>   -0.868</td> <td> 0.386</td> <td>-7.54e-06</td> <td> 2.91e-06</td>\n",
       "</tr>\n",
       "<tr>\n",
       "  <th>capital_loss</th>          <td> -1.48e-07</td> <td> 2.61e-06</td> <td>   -0.057</td> <td> 0.955</td> <td>-5.26e-06</td> <td> 4.96e-06</td>\n",
       "</tr>\n",
       "<tr>\n",
       "  <th>injury_claim</th>          <td> 6.347e-06</td> <td>  1.8e-05</td> <td>    0.352</td> <td> 0.725</td> <td> -2.9e-05</td> <td> 4.17e-05</td>\n",
       "</tr>\n",
       "<tr>\n",
       "  <th>property_claim</th>        <td>  5.47e-05</td> <td> 1.78e-05</td> <td>    3.065</td> <td> 0.002</td> <td> 1.97e-05</td> <td> 8.97e-05</td>\n",
       "</tr>\n",
       "</table>"
      ],
      "text/plain": [
       "<class 'statsmodels.iolib.summary.Summary'>\n",
       "\"\"\"\n",
       "                           Logit Regression Results                           \n",
       "==============================================================================\n",
       "Dep. Variable:         fraud_reported   No. Observations:                 1000\n",
       "Model:                          Logit   Df Residuals:                      992\n",
       "Method:                           MLE   Df Model:                            7\n",
       "Date:                Thu, 10 Mar 2022   Pseudo R-squ.:                 0.01313\n",
       "Time:                        07:32:05   Log-Likelihood:                -551.67\n",
       "converged:                       True   LL-Null:                       -559.02\n",
       "Covariance Type:            nonrobust   LLR p-value:                   0.04025\n",
       "=========================================================================================\n",
       "                            coef    std err          z      P>|z|      [0.025      0.975]\n",
       "-----------------------------------------------------------------------------------------\n",
       "months_as_customer     8.799e-05      0.001      0.139      0.889      -0.001       0.001\n",
       "policy_number         -4.115e-07   2.84e-07     -1.449      0.147   -9.68e-07    1.45e-07\n",
       "policy_annual_premium    -0.0005      0.000     -2.039      0.041      -0.001   -2.05e-05\n",
       "insured_zip             -1.3e-06   7.05e-07     -1.845      0.065   -2.68e-06    8.12e-08\n",
       "capital_gains         -2.313e-06   2.67e-06     -0.868      0.386   -7.54e-06    2.91e-06\n",
       "capital_loss           -1.48e-07   2.61e-06     -0.057      0.955   -5.26e-06    4.96e-06\n",
       "injury_claim           6.347e-06    1.8e-05      0.352      0.725    -2.9e-05    4.17e-05\n",
       "property_claim          5.47e-05   1.78e-05      3.065      0.002    1.97e-05    8.97e-05\n",
       "=========================================================================================\n",
       "\"\"\""
      ]
     },
     "execution_count": 54,
     "metadata": {},
     "output_type": "execute_result"
    }
   ],
   "source": [
    "# checking continuous var relation with taget var\n",
    "import statsmodels.api as sm\n",
    "model = sm.Logit(targetF,non_des_df).fit()\n",
    "model.summary()"
   ]
  },
  {
   "cell_type": "markdown",
   "metadata": {
    "hidden": true
   },
   "source": [
    "- drop features with Pvalue > 0.05, as target var do not show much dependence on these\n",
    "- months_as_customer,policy_number,capital-gains,capital-loss,injury_claim,insured_zip"
   ]
  },
  {
   "cell_type": "code",
   "execution_count": 55,
   "metadata": {
    "ExecuteTime": {
     "end_time": "2022-03-10T02:02:05.886469Z",
     "start_time": "2022-03-10T02:02:05.872457Z"
    },
    "hidden": true
   },
   "outputs": [],
   "source": [
    "non_des_df = non_des_df.drop(['months_as_customer','policy_number','insured_zip',\n",
    "                              'capital_gains','capital_loss','injury_claim'], axis=1)"
   ]
  },
  {
   "cell_type": "code",
   "execution_count": 56,
   "metadata": {
    "ExecuteTime": {
     "end_time": "2022-03-10T02:02:05.902377Z",
     "start_time": "2022-03-10T02:02:05.888416Z"
    },
    "hidden": true
   },
   "outputs": [
    {
     "data": {
      "text/plain": [
       "Index(['policy_annual_premium', 'property_claim'], dtype='object')"
      ]
     },
     "execution_count": 56,
     "metadata": {},
     "output_type": "execute_result"
    }
   ],
   "source": [
    "non_des_df.columns"
   ]
  },
  {
   "cell_type": "code",
   "execution_count": 57,
   "metadata": {
    "ExecuteTime": {
     "end_time": "2022-03-10T02:02:05.918333Z",
     "start_time": "2022-03-10T02:02:05.904372Z"
    },
    "hidden": true
   },
   "outputs": [
    {
     "data": {
      "text/plain": [
       "Index(['policy_deductable', 'umbrella_limit', 'incident_hour_of_the_day',\n",
       "       'number_of_vehicles_involved', 'bodily_injuries', 'witnesses',\n",
       "       'auto_year'],\n",
       "      dtype='object')"
      ]
     },
     "execution_count": 57,
     "metadata": {},
     "output_type": "execute_result"
    }
   ],
   "source": [
    "# checking with Descrete var\n",
    "desc_df.columns"
   ]
  },
  {
   "cell_type": "code",
   "execution_count": 58,
   "metadata": {
    "ExecuteTime": {
     "end_time": "2022-03-10T02:02:05.934290Z",
     "start_time": "2022-03-10T02:02:05.920330Z"
    },
    "hidden": true
   },
   "outputs": [
    {
     "data": {
      "text/plain": [
       "policy_deductable               3\n",
       "umbrella_limit                 11\n",
       "incident_hour_of_the_day       24\n",
       "number_of_vehicles_involved     4\n",
       "bodily_injuries                 3\n",
       "witnesses                       4\n",
       "auto_year                      21\n",
       "dtype: int64"
      ]
     },
     "execution_count": 58,
     "metadata": {},
     "output_type": "execute_result"
    }
   ],
   "source": [
    "desc_df.nunique()"
   ]
  },
  {
   "cell_type": "code",
   "execution_count": 59,
   "metadata": {
    "ExecuteTime": {
     "end_time": "2022-03-10T02:02:05.950248Z",
     "start_time": "2022-03-10T02:02:05.935289Z"
    },
    "hidden": true
   },
   "outputs": [],
   "source": [
    "desc_cat_cols =['incident_hour_of_the_day','bodily_injuries', 'auto_year']"
   ]
  },
  {
   "cell_type": "code",
   "execution_count": 60,
   "metadata": {
    "ExecuteTime": {
     "end_time": "2022-03-10T02:02:06.013919Z",
     "start_time": "2022-03-10T02:02:05.952243Z"
    },
    "hidden": true
   },
   "outputs": [
    {
     "data": {
      "text/html": [
       "<div>\n",
       "<style scoped>\n",
       "    .dataframe tbody tr th:only-of-type {\n",
       "        vertical-align: middle;\n",
       "    }\n",
       "\n",
       "    .dataframe tbody tr th {\n",
       "        vertical-align: top;\n",
       "    }\n",
       "\n",
       "    .dataframe thead th {\n",
       "        text-align: right;\n",
       "    }\n",
       "</style>\n",
       "<table border=\"1\" class=\"dataframe\">\n",
       "  <thead>\n",
       "    <tr style=\"text-align: right;\">\n",
       "      <th></th>\n",
       "      <th>feature</th>\n",
       "      <th>chi2Stat</th>\n",
       "      <th>pValue</th>\n",
       "    </tr>\n",
       "  </thead>\n",
       "  <tbody>\n",
       "    <tr>\n",
       "      <th>0</th>\n",
       "      <td>incident_hour_of_the_day</td>\n",
       "      <td>31.777900</td>\n",
       "      <td>0.104851</td>\n",
       "    </tr>\n",
       "    <tr>\n",
       "      <th>1</th>\n",
       "      <td>bodily_injuries</td>\n",
       "      <td>1.550286</td>\n",
       "      <td>0.460638</td>\n",
       "    </tr>\n",
       "    <tr>\n",
       "      <th>2</th>\n",
       "      <td>auto_year</td>\n",
       "      <td>23.404101</td>\n",
       "      <td>0.269391</td>\n",
       "    </tr>\n",
       "  </tbody>\n",
       "</table>\n",
       "</div>"
      ],
      "text/plain": [
       "                    feature   chi2Stat    pValue\n",
       "0  incident_hour_of_the_day  31.777900  0.104851\n",
       "1           bodily_injuries   1.550286  0.460638\n",
       "2                 auto_year  23.404101  0.269391"
      ]
     },
     "execution_count": 60,
     "metadata": {},
     "output_type": "execute_result"
    }
   ],
   "source": [
    "desc_cat_sel , chi2res = chi2Test(desc_df[desc_cat_cols],targetF)\n",
    "chi2res"
   ]
  },
  {
   "cell_type": "markdown",
   "metadata": {
    "ExecuteTime": {
     "end_time": "2022-03-09T18:03:43.468070Z",
     "start_time": "2022-03-09T18:03:43.448988Z"
    },
    "hidden": true
   },
   "source": [
    "- as none of them have much dependence with targeF, so drop them"
   ]
  },
  {
   "cell_type": "code",
   "execution_count": 61,
   "metadata": {
    "ExecuteTime": {
     "end_time": "2022-03-10T02:02:06.030035Z",
     "start_time": "2022-03-10T02:02:06.016072Z"
    },
    "hidden": true,
    "scrolled": false
   },
   "outputs": [
    {
     "data": {
      "text/html": [
       "<div>\n",
       "<style scoped>\n",
       "    .dataframe tbody tr th:only-of-type {\n",
       "        vertical-align: middle;\n",
       "    }\n",
       "\n",
       "    .dataframe tbody tr th {\n",
       "        vertical-align: top;\n",
       "    }\n",
       "\n",
       "    .dataframe thead th {\n",
       "        text-align: right;\n",
       "    }\n",
       "</style>\n",
       "<table border=\"1\" class=\"dataframe\">\n",
       "  <thead>\n",
       "    <tr style=\"text-align: right;\">\n",
       "      <th></th>\n",
       "      <th>policy_deductable</th>\n",
       "      <th>umbrella_limit</th>\n",
       "      <th>number_of_vehicles_involved</th>\n",
       "      <th>witnesses</th>\n",
       "    </tr>\n",
       "  </thead>\n",
       "  <tbody>\n",
       "    <tr>\n",
       "      <th>0</th>\n",
       "      <td>1000</td>\n",
       "      <td>0</td>\n",
       "      <td>1</td>\n",
       "      <td>2</td>\n",
       "    </tr>\n",
       "    <tr>\n",
       "      <th>1</th>\n",
       "      <td>2000</td>\n",
       "      <td>5000000</td>\n",
       "      <td>1</td>\n",
       "      <td>0</td>\n",
       "    </tr>\n",
       "    <tr>\n",
       "      <th>2</th>\n",
       "      <td>2000</td>\n",
       "      <td>5000000</td>\n",
       "      <td>3</td>\n",
       "      <td>3</td>\n",
       "    </tr>\n",
       "    <tr>\n",
       "      <th>3</th>\n",
       "      <td>2000</td>\n",
       "      <td>6000000</td>\n",
       "      <td>1</td>\n",
       "      <td>2</td>\n",
       "    </tr>\n",
       "    <tr>\n",
       "      <th>4</th>\n",
       "      <td>1000</td>\n",
       "      <td>6000000</td>\n",
       "      <td>1</td>\n",
       "      <td>1</td>\n",
       "    </tr>\n",
       "  </tbody>\n",
       "</table>\n",
       "</div>"
      ],
      "text/plain": [
       "   policy_deductable  umbrella_limit  number_of_vehicles_involved  witnesses\n",
       "0               1000               0                            1          2\n",
       "1               2000         5000000                            1          0\n",
       "2               2000         5000000                            3          3\n",
       "3               2000         6000000                            1          2\n",
       "4               1000         6000000                            1          1"
      ]
     },
     "execution_count": 61,
     "metadata": {},
     "output_type": "execute_result"
    }
   ],
   "source": [
    "desc_df = desc_df.drop(desc_cat_cols, axis=1)\n",
    "desc_df.head()"
   ]
  },
  {
   "cell_type": "code",
   "execution_count": 62,
   "metadata": {
    "ExecuteTime": {
     "end_time": "2022-03-10T02:02:06.046021Z",
     "start_time": "2022-03-10T02:02:06.032030Z"
    },
    "hidden": true
   },
   "outputs": [],
   "source": [
    "# features = ['insured_hobbies','incident_type','incident_severity','authorities_contacted',\n",
    "#             'incident_state','policy_annual_premium','property_claim','policy_deductable', \n",
    "#             'umbrella_limit','number_of_vehicles_involved', 'bodily_injuries', 'witnesses']"
   ]
  },
  {
   "cell_type": "code",
   "execution_count": 63,
   "metadata": {
    "ExecuteTime": {
     "end_time": "2022-03-10T02:02:06.062020Z",
     "start_time": "2022-03-10T02:02:06.047023Z"
    },
    "hidden": true
   },
   "outputs": [],
   "source": [
    "features = ['insured_hobbies', 'incident_type', 'collision_type', 'incident_severity',\n",
    "            'authorities_contacted', 'incident_state', 'property_damage','umbrella_limit',\n",
    "           'policy_deductable','number_of_vehicles_involved','witnesses',\n",
    "            'policy_annual_premium','property_claim']"
   ]
  },
  {
   "cell_type": "markdown",
   "metadata": {},
   "source": [
    "# Model performance with new Feature set"
   ]
  },
  {
   "cell_type": "code",
   "execution_count": 64,
   "metadata": {
    "ExecuteTime": {
     "end_time": "2022-03-10T02:02:06.123933Z",
     "start_time": "2022-03-10T02:02:06.065020Z"
    }
   },
   "outputs": [
    {
     "data": {
      "text/html": [
       "<div>\n",
       "<style scoped>\n",
       "    .dataframe tbody tr th:only-of-type {\n",
       "        vertical-align: middle;\n",
       "    }\n",
       "\n",
       "    .dataframe tbody tr th {\n",
       "        vertical-align: top;\n",
       "    }\n",
       "\n",
       "    .dataframe thead th {\n",
       "        text-align: right;\n",
       "    }\n",
       "</style>\n",
       "<table border=\"1\" class=\"dataframe\">\n",
       "  <thead>\n",
       "    <tr style=\"text-align: right;\">\n",
       "      <th></th>\n",
       "      <th>months_as_customer</th>\n",
       "      <th>age</th>\n",
       "      <th>policy_number</th>\n",
       "      <th>policy_bind_date</th>\n",
       "      <th>policy_state</th>\n",
       "      <th>policy_csl</th>\n",
       "      <th>policy_deductable</th>\n",
       "      <th>policy_annual_premium</th>\n",
       "      <th>umbrella_limit</th>\n",
       "      <th>insured_zip</th>\n",
       "      <th>...</th>\n",
       "      <th>witnesses</th>\n",
       "      <th>police_report_available</th>\n",
       "      <th>total_claim_amount</th>\n",
       "      <th>injury_claim</th>\n",
       "      <th>property_claim</th>\n",
       "      <th>vehicle_claim</th>\n",
       "      <th>auto_make</th>\n",
       "      <th>auto_model</th>\n",
       "      <th>auto_year</th>\n",
       "      <th>fraud_reported</th>\n",
       "    </tr>\n",
       "  </thead>\n",
       "  <tbody>\n",
       "    <tr>\n",
       "      <th>0</th>\n",
       "      <td>328</td>\n",
       "      <td>48</td>\n",
       "      <td>521585</td>\n",
       "      <td>10/17/2014</td>\n",
       "      <td>OH</td>\n",
       "      <td>250/500</td>\n",
       "      <td>1000</td>\n",
       "      <td>1406.91</td>\n",
       "      <td>0</td>\n",
       "      <td>466132</td>\n",
       "      <td>...</td>\n",
       "      <td>2</td>\n",
       "      <td>YES</td>\n",
       "      <td>71610</td>\n",
       "      <td>6510</td>\n",
       "      <td>13020</td>\n",
       "      <td>52080</td>\n",
       "      <td>Saab</td>\n",
       "      <td>92x</td>\n",
       "      <td>2004</td>\n",
       "      <td>Y</td>\n",
       "    </tr>\n",
       "    <tr>\n",
       "      <th>1</th>\n",
       "      <td>228</td>\n",
       "      <td>42</td>\n",
       "      <td>342868</td>\n",
       "      <td>6/27/2006</td>\n",
       "      <td>IN</td>\n",
       "      <td>250/500</td>\n",
       "      <td>2000</td>\n",
       "      <td>1197.22</td>\n",
       "      <td>5000000</td>\n",
       "      <td>468176</td>\n",
       "      <td>...</td>\n",
       "      <td>0</td>\n",
       "      <td>NaN</td>\n",
       "      <td>5070</td>\n",
       "      <td>780</td>\n",
       "      <td>780</td>\n",
       "      <td>3510</td>\n",
       "      <td>Mercedes</td>\n",
       "      <td>E400</td>\n",
       "      <td>2007</td>\n",
       "      <td>Y</td>\n",
       "    </tr>\n",
       "    <tr>\n",
       "      <th>2</th>\n",
       "      <td>134</td>\n",
       "      <td>29</td>\n",
       "      <td>687698</td>\n",
       "      <td>9/6/2000</td>\n",
       "      <td>OH</td>\n",
       "      <td>100/300</td>\n",
       "      <td>2000</td>\n",
       "      <td>1413.14</td>\n",
       "      <td>5000000</td>\n",
       "      <td>430632</td>\n",
       "      <td>...</td>\n",
       "      <td>3</td>\n",
       "      <td>NO</td>\n",
       "      <td>34650</td>\n",
       "      <td>7700</td>\n",
       "      <td>3850</td>\n",
       "      <td>23100</td>\n",
       "      <td>Dodge</td>\n",
       "      <td>RAM</td>\n",
       "      <td>2007</td>\n",
       "      <td>N</td>\n",
       "    </tr>\n",
       "    <tr>\n",
       "      <th>3</th>\n",
       "      <td>256</td>\n",
       "      <td>41</td>\n",
       "      <td>227811</td>\n",
       "      <td>5/25/1990</td>\n",
       "      <td>IL</td>\n",
       "      <td>250/500</td>\n",
       "      <td>2000</td>\n",
       "      <td>1415.74</td>\n",
       "      <td>6000000</td>\n",
       "      <td>608117</td>\n",
       "      <td>...</td>\n",
       "      <td>2</td>\n",
       "      <td>NO</td>\n",
       "      <td>63400</td>\n",
       "      <td>6340</td>\n",
       "      <td>6340</td>\n",
       "      <td>50720</td>\n",
       "      <td>Chevrolet</td>\n",
       "      <td>Tahoe</td>\n",
       "      <td>2014</td>\n",
       "      <td>Y</td>\n",
       "    </tr>\n",
       "    <tr>\n",
       "      <th>4</th>\n",
       "      <td>228</td>\n",
       "      <td>44</td>\n",
       "      <td>367455</td>\n",
       "      <td>6/6/2014</td>\n",
       "      <td>IL</td>\n",
       "      <td>500/1000</td>\n",
       "      <td>1000</td>\n",
       "      <td>1583.91</td>\n",
       "      <td>6000000</td>\n",
       "      <td>610706</td>\n",
       "      <td>...</td>\n",
       "      <td>1</td>\n",
       "      <td>NO</td>\n",
       "      <td>6500</td>\n",
       "      <td>1300</td>\n",
       "      <td>650</td>\n",
       "      <td>4550</td>\n",
       "      <td>Accura</td>\n",
       "      <td>RSX</td>\n",
       "      <td>2009</td>\n",
       "      <td>N</td>\n",
       "    </tr>\n",
       "  </tbody>\n",
       "</table>\n",
       "<p>5 rows × 39 columns</p>\n",
       "</div>"
      ],
      "text/plain": [
       "   months_as_customer  age  policy_number policy_bind_date policy_state  \\\n",
       "0                 328   48         521585       10/17/2014           OH   \n",
       "1                 228   42         342868        6/27/2006           IN   \n",
       "2                 134   29         687698         9/6/2000           OH   \n",
       "3                 256   41         227811        5/25/1990           IL   \n",
       "4                 228   44         367455         6/6/2014           IL   \n",
       "\n",
       "  policy_csl  policy_deductable  policy_annual_premium  umbrella_limit  \\\n",
       "0    250/500               1000                1406.91               0   \n",
       "1    250/500               2000                1197.22         5000000   \n",
       "2    100/300               2000                1413.14         5000000   \n",
       "3    250/500               2000                1415.74         6000000   \n",
       "4   500/1000               1000                1583.91         6000000   \n",
       "\n",
       "   insured_zip  ... witnesses police_report_available total_claim_amount  \\\n",
       "0       466132  ...         2                     YES              71610   \n",
       "1       468176  ...         0                     NaN               5070   \n",
       "2       430632  ...         3                      NO              34650   \n",
       "3       608117  ...         2                      NO              63400   \n",
       "4       610706  ...         1                      NO               6500   \n",
       "\n",
       "  injury_claim property_claim  vehicle_claim  auto_make auto_model auto_year  \\\n",
       "0         6510          13020          52080       Saab        92x      2004   \n",
       "1          780            780           3510   Mercedes       E400      2007   \n",
       "2         7700           3850          23100      Dodge        RAM      2007   \n",
       "3         6340           6340          50720  Chevrolet      Tahoe      2014   \n",
       "4         1300            650           4550     Accura        RSX      2009   \n",
       "\n",
       "  fraud_reported  \n",
       "0              Y  \n",
       "1              Y  \n",
       "2              N  \n",
       "3              Y  \n",
       "4              N  \n",
       "\n",
       "[5 rows x 39 columns]"
      ]
     },
     "execution_count": 64,
     "metadata": {},
     "output_type": "execute_result"
    }
   ],
   "source": [
    "data.head()"
   ]
  },
  {
   "cell_type": "code",
   "execution_count": 65,
   "metadata": {
    "ExecuteTime": {
     "end_time": "2022-03-10T02:02:06.139292Z",
     "start_time": "2022-03-10T02:02:06.125856Z"
    }
   },
   "outputs": [],
   "source": [
    "df = data.copy()"
   ]
  },
  {
   "cell_type": "code",
   "execution_count": 66,
   "metadata": {
    "ExecuteTime": {
     "end_time": "2022-03-10T02:02:06.170406Z",
     "start_time": "2022-03-10T02:02:06.141257Z"
    },
    "scrolled": true
   },
   "outputs": [
    {
     "data": {
      "text/html": [
       "<div>\n",
       "<style scoped>\n",
       "    .dataframe tbody tr th:only-of-type {\n",
       "        vertical-align: middle;\n",
       "    }\n",
       "\n",
       "    .dataframe tbody tr th {\n",
       "        vertical-align: top;\n",
       "    }\n",
       "\n",
       "    .dataframe thead th {\n",
       "        text-align: right;\n",
       "    }\n",
       "</style>\n",
       "<table border=\"1\" class=\"dataframe\">\n",
       "  <thead>\n",
       "    <tr style=\"text-align: right;\">\n",
       "      <th></th>\n",
       "      <th>insured_hobbies</th>\n",
       "      <th>incident_type</th>\n",
       "      <th>collision_type</th>\n",
       "      <th>incident_severity</th>\n",
       "      <th>authorities_contacted</th>\n",
       "      <th>incident_state</th>\n",
       "      <th>property_damage</th>\n",
       "      <th>umbrella_limit</th>\n",
       "      <th>policy_deductable</th>\n",
       "      <th>number_of_vehicles_involved</th>\n",
       "      <th>witnesses</th>\n",
       "      <th>policy_annual_premium</th>\n",
       "      <th>property_claim</th>\n",
       "    </tr>\n",
       "  </thead>\n",
       "  <tbody>\n",
       "    <tr>\n",
       "      <th>0</th>\n",
       "      <td>sleeping</td>\n",
       "      <td>Single Vehicle Collision</td>\n",
       "      <td>Side Collision</td>\n",
       "      <td>Major Damage</td>\n",
       "      <td>Police</td>\n",
       "      <td>SC</td>\n",
       "      <td>YES</td>\n",
       "      <td>0</td>\n",
       "      <td>1000</td>\n",
       "      <td>1</td>\n",
       "      <td>2</td>\n",
       "      <td>1406.91</td>\n",
       "      <td>13020</td>\n",
       "    </tr>\n",
       "    <tr>\n",
       "      <th>1</th>\n",
       "      <td>reading</td>\n",
       "      <td>Vehicle Theft</td>\n",
       "      <td>NaN</td>\n",
       "      <td>Minor Damage</td>\n",
       "      <td>Police</td>\n",
       "      <td>VA</td>\n",
       "      <td>NaN</td>\n",
       "      <td>5000000</td>\n",
       "      <td>2000</td>\n",
       "      <td>1</td>\n",
       "      <td>0</td>\n",
       "      <td>1197.22</td>\n",
       "      <td>780</td>\n",
       "    </tr>\n",
       "    <tr>\n",
       "      <th>2</th>\n",
       "      <td>board-games</td>\n",
       "      <td>Multi-vehicle Collision</td>\n",
       "      <td>Rear Collision</td>\n",
       "      <td>Minor Damage</td>\n",
       "      <td>Police</td>\n",
       "      <td>NY</td>\n",
       "      <td>NO</td>\n",
       "      <td>5000000</td>\n",
       "      <td>2000</td>\n",
       "      <td>3</td>\n",
       "      <td>3</td>\n",
       "      <td>1413.14</td>\n",
       "      <td>3850</td>\n",
       "    </tr>\n",
       "    <tr>\n",
       "      <th>3</th>\n",
       "      <td>board-games</td>\n",
       "      <td>Single Vehicle Collision</td>\n",
       "      <td>Front Collision</td>\n",
       "      <td>Major Damage</td>\n",
       "      <td>Police</td>\n",
       "      <td>OH</td>\n",
       "      <td>NaN</td>\n",
       "      <td>6000000</td>\n",
       "      <td>2000</td>\n",
       "      <td>1</td>\n",
       "      <td>2</td>\n",
       "      <td>1415.74</td>\n",
       "      <td>6340</td>\n",
       "    </tr>\n",
       "    <tr>\n",
       "      <th>4</th>\n",
       "      <td>board-games</td>\n",
       "      <td>Vehicle Theft</td>\n",
       "      <td>NaN</td>\n",
       "      <td>Minor Damage</td>\n",
       "      <td>None</td>\n",
       "      <td>NY</td>\n",
       "      <td>NO</td>\n",
       "      <td>6000000</td>\n",
       "      <td>1000</td>\n",
       "      <td>1</td>\n",
       "      <td>1</td>\n",
       "      <td>1583.91</td>\n",
       "      <td>650</td>\n",
       "    </tr>\n",
       "  </tbody>\n",
       "</table>\n",
       "</div>"
      ],
      "text/plain": [
       "  insured_hobbies             incident_type   collision_type  \\\n",
       "0        sleeping  Single Vehicle Collision   Side Collision   \n",
       "1         reading             Vehicle Theft              NaN   \n",
       "2     board-games   Multi-vehicle Collision   Rear Collision   \n",
       "3     board-games  Single Vehicle Collision  Front Collision   \n",
       "4     board-games             Vehicle Theft              NaN   \n",
       "\n",
       "  incident_severity authorities_contacted incident_state property_damage  \\\n",
       "0      Major Damage                Police             SC             YES   \n",
       "1      Minor Damage                Police             VA             NaN   \n",
       "2      Minor Damage                Police             NY              NO   \n",
       "3      Major Damage                Police             OH             NaN   \n",
       "4      Minor Damage                  None             NY              NO   \n",
       "\n",
       "   umbrella_limit  policy_deductable  number_of_vehicles_involved  witnesses  \\\n",
       "0               0               1000                            1          2   \n",
       "1         5000000               2000                            1          0   \n",
       "2         5000000               2000                            3          3   \n",
       "3         6000000               2000                            1          2   \n",
       "4         6000000               1000                            1          1   \n",
       "\n",
       "   policy_annual_premium  property_claim  \n",
       "0                1406.91           13020  \n",
       "1                1197.22             780  \n",
       "2                1413.14            3850  \n",
       "3                1415.74            6340  \n",
       "4                1583.91             650  "
      ]
     },
     "execution_count": 66,
     "metadata": {},
     "output_type": "execute_result"
    }
   ],
   "source": [
    "df = df[features]\n",
    "df.head()"
   ]
  },
  {
   "cell_type": "code",
   "execution_count": 67,
   "metadata": {
    "ExecuteTime": {
     "end_time": "2022-03-10T02:02:06.185966Z",
     "start_time": "2022-03-10T02:02:06.172359Z"
    }
   },
   "outputs": [],
   "source": [
    "df = df.replace('?',np.NaN)"
   ]
  },
  {
   "cell_type": "code",
   "execution_count": 68,
   "metadata": {
    "ExecuteTime": {
     "end_time": "2022-03-10T02:02:06.201833Z",
     "start_time": "2022-03-10T02:02:06.187844Z"
    }
   },
   "outputs": [],
   "source": [
    "# Map ordinal features\n",
    "df['incident_severity'] = df['incident_severity'].map({'Trivial Damage' : 1, 'Minor Damage' : 2,'Major Damage':3,'Total Loss':4})"
   ]
  },
  {
   "cell_type": "code",
   "execution_count": 69,
   "metadata": {
    "ExecuteTime": {
     "end_time": "2022-03-10T02:02:06.217765Z",
     "start_time": "2022-03-10T02:02:06.202804Z"
    },
    "scrolled": false
   },
   "outputs": [
    {
     "data": {
      "text/html": [
       "<div>\n",
       "<style scoped>\n",
       "    .dataframe tbody tr th:only-of-type {\n",
       "        vertical-align: middle;\n",
       "    }\n",
       "\n",
       "    .dataframe tbody tr th {\n",
       "        vertical-align: top;\n",
       "    }\n",
       "\n",
       "    .dataframe thead th {\n",
       "        text-align: right;\n",
       "    }\n",
       "</style>\n",
       "<table border=\"1\" class=\"dataframe\">\n",
       "  <thead>\n",
       "    <tr style=\"text-align: right;\">\n",
       "      <th></th>\n",
       "      <th>insured_hobbies</th>\n",
       "      <th>incident_type</th>\n",
       "      <th>collision_type</th>\n",
       "      <th>incident_severity</th>\n",
       "      <th>authorities_contacted</th>\n",
       "      <th>incident_state</th>\n",
       "      <th>property_damage</th>\n",
       "      <th>umbrella_limit</th>\n",
       "      <th>policy_deductable</th>\n",
       "      <th>number_of_vehicles_involved</th>\n",
       "      <th>witnesses</th>\n",
       "      <th>policy_annual_premium</th>\n",
       "      <th>property_claim</th>\n",
       "    </tr>\n",
       "  </thead>\n",
       "  <tbody>\n",
       "    <tr>\n",
       "      <th>0</th>\n",
       "      <td>sleeping</td>\n",
       "      <td>Single Vehicle Collision</td>\n",
       "      <td>Side Collision</td>\n",
       "      <td>3</td>\n",
       "      <td>Police</td>\n",
       "      <td>SC</td>\n",
       "      <td>YES</td>\n",
       "      <td>0</td>\n",
       "      <td>1000</td>\n",
       "      <td>1</td>\n",
       "      <td>2</td>\n",
       "      <td>1406.91</td>\n",
       "      <td>13020</td>\n",
       "    </tr>\n",
       "    <tr>\n",
       "      <th>1</th>\n",
       "      <td>reading</td>\n",
       "      <td>Vehicle Theft</td>\n",
       "      <td>NaN</td>\n",
       "      <td>2</td>\n",
       "      <td>Police</td>\n",
       "      <td>VA</td>\n",
       "      <td>NaN</td>\n",
       "      <td>5000000</td>\n",
       "      <td>2000</td>\n",
       "      <td>1</td>\n",
       "      <td>0</td>\n",
       "      <td>1197.22</td>\n",
       "      <td>780</td>\n",
       "    </tr>\n",
       "    <tr>\n",
       "      <th>2</th>\n",
       "      <td>board-games</td>\n",
       "      <td>Multi-vehicle Collision</td>\n",
       "      <td>Rear Collision</td>\n",
       "      <td>2</td>\n",
       "      <td>Police</td>\n",
       "      <td>NY</td>\n",
       "      <td>NO</td>\n",
       "      <td>5000000</td>\n",
       "      <td>2000</td>\n",
       "      <td>3</td>\n",
       "      <td>3</td>\n",
       "      <td>1413.14</td>\n",
       "      <td>3850</td>\n",
       "    </tr>\n",
       "    <tr>\n",
       "      <th>3</th>\n",
       "      <td>board-games</td>\n",
       "      <td>Single Vehicle Collision</td>\n",
       "      <td>Front Collision</td>\n",
       "      <td>3</td>\n",
       "      <td>Police</td>\n",
       "      <td>OH</td>\n",
       "      <td>NaN</td>\n",
       "      <td>6000000</td>\n",
       "      <td>2000</td>\n",
       "      <td>1</td>\n",
       "      <td>2</td>\n",
       "      <td>1415.74</td>\n",
       "      <td>6340</td>\n",
       "    </tr>\n",
       "    <tr>\n",
       "      <th>4</th>\n",
       "      <td>board-games</td>\n",
       "      <td>Vehicle Theft</td>\n",
       "      <td>NaN</td>\n",
       "      <td>2</td>\n",
       "      <td>None</td>\n",
       "      <td>NY</td>\n",
       "      <td>NO</td>\n",
       "      <td>6000000</td>\n",
       "      <td>1000</td>\n",
       "      <td>1</td>\n",
       "      <td>1</td>\n",
       "      <td>1583.91</td>\n",
       "      <td>650</td>\n",
       "    </tr>\n",
       "  </tbody>\n",
       "</table>\n",
       "</div>"
      ],
      "text/plain": [
       "  insured_hobbies             incident_type   collision_type  \\\n",
       "0        sleeping  Single Vehicle Collision   Side Collision   \n",
       "1         reading             Vehicle Theft              NaN   \n",
       "2     board-games   Multi-vehicle Collision   Rear Collision   \n",
       "3     board-games  Single Vehicle Collision  Front Collision   \n",
       "4     board-games             Vehicle Theft              NaN   \n",
       "\n",
       "   incident_severity authorities_contacted incident_state property_damage  \\\n",
       "0                  3                Police             SC             YES   \n",
       "1                  2                Police             VA             NaN   \n",
       "2                  2                Police             NY              NO   \n",
       "3                  3                Police             OH             NaN   \n",
       "4                  2                  None             NY              NO   \n",
       "\n",
       "   umbrella_limit  policy_deductable  number_of_vehicles_involved  witnesses  \\\n",
       "0               0               1000                            1          2   \n",
       "1         5000000               2000                            1          0   \n",
       "2         5000000               2000                            3          3   \n",
       "3         6000000               2000                            1          2   \n",
       "4         6000000               1000                            1          1   \n",
       "\n",
       "   policy_annual_premium  property_claim  \n",
       "0                1406.91           13020  \n",
       "1                1197.22             780  \n",
       "2                1413.14            3850  \n",
       "3                1415.74            6340  \n",
       "4                1583.91             650  "
      ]
     },
     "execution_count": 69,
     "metadata": {},
     "output_type": "execute_result"
    }
   ],
   "source": [
    "df.head()"
   ]
  },
  {
   "cell_type": "code",
   "execution_count": 73,
   "metadata": {
    "ExecuteTime": {
     "end_time": "2022-03-10T02:03:16.575372Z",
     "start_time": "2022-03-10T02:03:16.551968Z"
    }
   },
   "outputs": [],
   "source": [
    "for col in df.columns:\n",
    "    if df[col].isna().sum()>0:\n",
    "        df[col]=imputer.fit_transform(df[[col]])"
   ]
  },
  {
   "cell_type": "code",
   "execution_count": 74,
   "metadata": {
    "ExecuteTime": {
     "end_time": "2022-03-10T02:03:16.590922Z",
     "start_time": "2022-03-10T02:03:16.577367Z"
    }
   },
   "outputs": [
    {
     "name": "stdout",
     "output_type": "stream",
     "text": [
      "<class 'pandas.core.frame.DataFrame'>\n",
      "RangeIndex: 1000 entries, 0 to 999\n",
      "Data columns (total 13 columns):\n",
      " #   Column                       Non-Null Count  Dtype  \n",
      "---  ------                       --------------  -----  \n",
      " 0   insured_hobbies              1000 non-null   object \n",
      " 1   incident_type                1000 non-null   object \n",
      " 2   collision_type               1000 non-null   object \n",
      " 3   incident_severity            1000 non-null   int64  \n",
      " 4   authorities_contacted        1000 non-null   object \n",
      " 5   incident_state               1000 non-null   object \n",
      " 6   property_damage              1000 non-null   object \n",
      " 7   umbrella_limit               1000 non-null   int64  \n",
      " 8   policy_deductable            1000 non-null   int64  \n",
      " 9   number_of_vehicles_involved  1000 non-null   int64  \n",
      " 10  witnesses                    1000 non-null   int64  \n",
      " 11  policy_annual_premium        1000 non-null   float64\n",
      " 12  property_claim               1000 non-null   int64  \n",
      "dtypes: float64(1), int64(6), object(6)\n",
      "memory usage: 101.7+ KB\n"
     ]
    }
   ],
   "source": [
    "df.info()"
   ]
  },
  {
   "cell_type": "code",
   "execution_count": 75,
   "metadata": {
    "ExecuteTime": {
     "end_time": "2022-03-10T02:03:16.622396Z",
     "start_time": "2022-03-10T02:03:16.592934Z"
    }
   },
   "outputs": [
    {
     "data": {
      "text/plain": [
       "(1000, 42)"
      ]
     },
     "execution_count": 75,
     "metadata": {},
     "output_type": "execute_result"
    }
   ],
   "source": [
    "# Encode Categorical data\n",
    "df = pd.get_dummies(df,drop_first=True)\n",
    "pd.set_option(\"display.max_columns\",None)\n",
    "df.shape"
   ]
  },
  {
   "cell_type": "code",
   "execution_count": 76,
   "metadata": {
    "ExecuteTime": {
     "end_time": "2022-03-10T02:03:16.638374Z",
     "start_time": "2022-03-10T02:03:16.624242Z"
    }
   },
   "outputs": [],
   "source": [
    "Xt,Xv,yt,yv = train_test_split(df,y,test_size=0.2, random_state=2)"
   ]
  },
  {
   "cell_type": "code",
   "execution_count": 77,
   "metadata": {
    "ExecuteTime": {
     "end_time": "2022-03-10T02:03:19.913981Z",
     "start_time": "2022-03-10T02:03:16.639201Z"
    }
   },
   "outputs": [
    {
     "name": "stderr",
     "output_type": "stream",
     "text": [
      "C:\\Users\\jadha\\anaconda3\\lib\\site-packages\\xgboost\\sklearn.py:1224: UserWarning: The use of label encoder in XGBClassifier is deprecated and will be removed in a future release. To remove this warning, do the following: 1) Pass option use_label_encoder=False when constructing XGBClassifier object; and 2) Encode your labels (y) as integers starting with 0, i.e. 0, 1, 2, ..., [num_class - 1].\n",
      "  warnings.warn(label_encoder_deprecation_msg, UserWarning)\n"
     ]
    }
   ],
   "source": [
    "modelN,gridN = modelTrain(est=clfXGB,para_grid=param_grid,X=Xt,Y=yt)"
   ]
  },
  {
   "cell_type": "code",
   "execution_count": 78,
   "metadata": {
    "ExecuteTime": {
     "end_time": "2022-03-10T02:03:20.151787Z",
     "start_time": "2022-03-10T02:03:19.915977Z"
    }
   },
   "outputs": [
    {
     "name": "stdout",
     "output_type": "stream",
     "text": [
      "              precision    recall  f1-score   support\n",
      "\n",
      "           0       0.96      0.87      0.91       151\n",
      "           1       0.69      0.90      0.78        49\n",
      "\n",
      "    accuracy                           0.88       200\n",
      "   macro avg       0.83      0.88      0.85       200\n",
      "weighted avg       0.90      0.88      0.88       200\n",
      "\n",
      "[[131  20]\n",
      " [  5  44]]\n",
      "0.8827544262738208\n"
     ]
    },
    {
     "data": {
      "image/png": "[encoded data removed]",
      "text/plain": [
       "<Figure size 460.8x403.2 with 1 Axes>"
      ]
     },
     "metadata": {},
     "output_type": "display_data"
    }
   ],
   "source": [
    "thresholdAdjust(modelN,0.35,Xv,yv)"
   ]
  },
  {
   "cell_type": "code",
   "execution_count": 79,
   "metadata": {
    "ExecuteTime": {
     "end_time": "2022-03-10T02:03:20.497310Z",
     "start_time": "2022-03-10T02:03:20.153782Z"
    }
   },
   "outputs": [
    {
     "name": "stdout",
     "output_type": "stream",
     "text": [
      "              precision    recall  f1-score   support\n",
      "\n",
      "           0       0.96      0.85      0.90       602\n",
      "           1       0.66      0.89      0.76       198\n",
      "\n",
      "    accuracy                           0.86       800\n",
      "   macro avg       0.81      0.87      0.83       800\n",
      "weighted avg       0.88      0.86      0.86       800\n",
      "\n",
      "[[510  92]\n",
      " [ 22 176]]\n",
      "0.868032484311554\n"
     ]
    },
    {
     "data": {
      "image/png": "[encoded data removed]",
      "text/plain": [
       "<Figure size 460.8x403.2 with 1 Axes>"
      ]
     },
     "metadata": {},
     "output_type": "display_data"
    }
   ],
   "source": [
    "thresholdAdjust(modelN,0.35,Xt,yt)"
   ]
  },
  {
   "cell_type": "markdown",
   "metadata": {},
   "source": [
    "# Conclusion :\n",
    "- model with XGBClassifier gives Roc_curve_score of 88% & recall of 90%\n",
    "- XGB with optimised feature list gives same ouput as with all features\n"
   ]
  },
  {
   "cell_type": "code",
   "execution_count": null,
   "metadata": {},
   "outputs": [],
   "source": []
  }
 ],
 "metadata": {
  "kernelspec": {
   "display_name": "Python 3",
   "language": "python",
   "name": "python3"
  },
  "language_info": {
   "codemirror_mode": {
    "name": "ipython",
    "version": 3
   },
   "file_extension": ".py",
   "mimetype": "text/x-python",
   "name": "python",
   "nbconvert_exporter": "python",
   "pygments_lexer": "ipython3",
   "version": "3.8.5"
  }
 },
 "nbformat": 4,
 "nbformat_minor": 5
}
